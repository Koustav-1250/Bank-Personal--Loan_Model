{
  "nbformat": 4,
  "nbformat_minor": 0,
  "metadata": {
    "colab": {
      "name": "MLProjectBankPersonalLoans",
      "provenance": [],
      "toc_visible": true,
      "authorship_tag": "ABX9TyNMAGha9uTqATDjsivLyoVS",
      "include_colab_link": true
    },
    "kernelspec": {
      "name": "python3",
      "display_name": "Python 3"
    }
  },
  "cells": [
    {
      "cell_type": "markdown",
      "metadata": {
        "id": "view-in-github",
        "colab_type": "text"
      },
      "source": [
        "<a href=\"https://colab.research.google.com/github/Koustav-1250/Bank-Personal--Loan_Model/blob/master/MLProjectBankPersonalLoans.ipynb\" target=\"_parent\"><img src=\"https://colab.research.google.com/assets/colab-badge.svg\" alt=\"Open In Colab\"/></a>"
      ]
    },
    {
      "cell_type": "markdown",
      "metadata": {
        "id": "LAYEoE5CsUSM",
        "colab_type": "text"
      },
      "source": [
        "Here we are going to bring the ml model that will pridict the likelyhood of customer taking personal loans\n",
        "##(Hypothesis Generation)opnion\n",
        "From some analysis I can say that:\n",
        "\n",
        "1) person who are educated are more tend towards taking loan.\n",
        "\n",
        "2)person who have more income are less tend to buy loans than person \n",
        "\n",
        "having median and less income.\n",
        "\n",
        "3)person age also plays important role.\n",
        "\n",
        "4)No. of family members will can also be the good reason for taking loans.\n",
        "\n",
        "\n",
        " The above are my opinion now I am going to process the data and see whether my opinion are ture in facts or the likelihood depends on  the other criterias. "
      ]
    },
    {
      "cell_type": "markdown",
      "metadata": {
        "id": "xU93K68EnksY",
        "colab_type": "text"
      },
      "source": [
        "# ***1.Data Preprocessing>>***\n",
        "\n",
        "**1.1Importing Libraries>>>**\n"
      ]
    },
    {
      "cell_type": "code",
      "metadata": {
        "id": "DMTxgDjfnZjg",
        "colab_type": "code",
        "colab": {}
      },
      "source": [
        "import seaborn as sns                 #Ploting graphs \n",
        "import matplotlib.pyplot as plt        #for visualizing graph here\n",
        "import pandas as pd\n",
        "import numpy as np\n",
        "import warnings\n",
        "warnings.filterwarnings('ignore')\n",
        "\n",
        "%matplotlib inline                 \n"
      ],
      "execution_count": null,
      "outputs": []
    },
    {
      "cell_type": "code",
      "metadata": {
        "id": "G4-h_iECr56a",
        "colab_type": "code",
        "colab": {
          "resources": {
            "http://localhost:8080/nbextensions/google.colab/files.js": {
              "data": "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",
              "ok": true,
              "headers": [
                [
                  "content-type",
                  "application/javascript"
                ]
              ],
              "status": 200,
              "status_text": ""
            }
          },
          "base_uri": "https://localhost:8080/",
          "height": 73
        },
        "outputId": "5550bc64-929b-48c4-fb3b-fe9d133bc27a"
      },
      "source": [
        "from google.colab import files            #uploading data to google collab\n",
        "uploaded =files.upload()\n"
      ],
      "execution_count": null,
      "outputs": [
        {
          "output_type": "display_data",
          "data": {
            "text/html": [
              "\n",
              "     <input type=\"file\" id=\"files-9d483492-392c-4890-bfa6-94c7c12d6683\" name=\"files[]\" multiple disabled\n",
              "        style=\"border:none\" />\n",
              "     <output id=\"result-9d483492-392c-4890-bfa6-94c7c12d6683\">\n",
              "      Upload widget is only available when the cell has been executed in the\n",
              "      current browser session. Please rerun this cell to enable.\n",
              "      </output>\n",
              "      <script src=\"/nbextensions/google.colab/files.js\"></script> "
            ],
            "text/plain": [
              "<IPython.core.display.HTML object>"
            ]
          },
          "metadata": {
            "tags": []
          }
        },
        {
          "output_type": "stream",
          "text": [
            "Saving datasets_48024_87370_Bank_Personal_Loan_Modelling.csv to datasets_48024_87370_Bank_Personal_Loan_Modelling (2).csv\n"
          ],
          "name": "stdout"
        }
      ]
    },
    {
      "cell_type": "markdown",
      "metadata": {
        "id": "gElT3--Lteh8",
        "colab_type": "text"
      },
      "source": [
        "**1.2)Loading data(features)>>**\n",
        "\n",
        "Personal Loan being a target value\n",
        "\n",
        "\n",
        "\n",
        "\n"
      ]
    },
    {
      "cell_type": "code",
      "metadata": {
        "id": "9MtnbNiCsRIl",
        "colab_type": "code",
        "colab": {}
      },
      "source": [
        "import io\n",
        "df=pd.read_csv(io.BytesIO(uploaded['datasets_48024_87370_Bank_Personal_Loan_Modelling.csv']))\n"
      ],
      "execution_count": null,
      "outputs": []
    },
    {
      "cell_type": "code",
      "metadata": {
        "id": "QORjISdPsbjv",
        "colab_type": "code",
        "colab": {
          "base_uri": "https://localhost:8080/",
          "height": 194
        },
        "outputId": "8e85b392-b656-4046-bfa9-ee582ad437df"
      },
      "source": [
        " #Display the top 5 rows of uploaded data \n",
        " \n",
        "df.head()"
      ],
      "execution_count": null,
      "outputs": [
        {
          "output_type": "execute_result",
          "data": {
            "text/html": [
              "<div>\n",
              "<style scoped>\n",
              "    .dataframe tbody tr th:only-of-type {\n",
              "        vertical-align: middle;\n",
              "    }\n",
              "\n",
              "    .dataframe tbody tr th {\n",
              "        vertical-align: top;\n",
              "    }\n",
              "\n",
              "    .dataframe thead th {\n",
              "        text-align: right;\n",
              "    }\n",
              "</style>\n",
              "<table border=\"1\" class=\"dataframe\">\n",
              "  <thead>\n",
              "    <tr style=\"text-align: right;\">\n",
              "      <th></th>\n",
              "      <th>ID</th>\n",
              "      <th>Age</th>\n",
              "      <th>Experience</th>\n",
              "      <th>Income</th>\n",
              "      <th>ZIP Code</th>\n",
              "      <th>Family</th>\n",
              "      <th>CCAvg</th>\n",
              "      <th>Education</th>\n",
              "      <th>Mortgage</th>\n",
              "      <th>Personal Loan</th>\n",
              "      <th>Securities Account</th>\n",
              "      <th>CD Account</th>\n",
              "      <th>Online</th>\n",
              "      <th>CreditCard</th>\n",
              "    </tr>\n",
              "  </thead>\n",
              "  <tbody>\n",
              "    <tr>\n",
              "      <th>0</th>\n",
              "      <td>1</td>\n",
              "      <td>25</td>\n",
              "      <td>1</td>\n",
              "      <td>49</td>\n",
              "      <td>91107</td>\n",
              "      <td>4</td>\n",
              "      <td>1.6</td>\n",
              "      <td>1</td>\n",
              "      <td>0</td>\n",
              "      <td>0</td>\n",
              "      <td>1</td>\n",
              "      <td>0</td>\n",
              "      <td>0</td>\n",
              "      <td>0</td>\n",
              "    </tr>\n",
              "    <tr>\n",
              "      <th>1</th>\n",
              "      <td>2</td>\n",
              "      <td>45</td>\n",
              "      <td>19</td>\n",
              "      <td>34</td>\n",
              "      <td>90089</td>\n",
              "      <td>3</td>\n",
              "      <td>1.5</td>\n",
              "      <td>1</td>\n",
              "      <td>0</td>\n",
              "      <td>0</td>\n",
              "      <td>1</td>\n",
              "      <td>0</td>\n",
              "      <td>0</td>\n",
              "      <td>0</td>\n",
              "    </tr>\n",
              "    <tr>\n",
              "      <th>2</th>\n",
              "      <td>3</td>\n",
              "      <td>39</td>\n",
              "      <td>15</td>\n",
              "      <td>11</td>\n",
              "      <td>94720</td>\n",
              "      <td>1</td>\n",
              "      <td>1.0</td>\n",
              "      <td>1</td>\n",
              "      <td>0</td>\n",
              "      <td>0</td>\n",
              "      <td>0</td>\n",
              "      <td>0</td>\n",
              "      <td>0</td>\n",
              "      <td>0</td>\n",
              "    </tr>\n",
              "    <tr>\n",
              "      <th>3</th>\n",
              "      <td>4</td>\n",
              "      <td>35</td>\n",
              "      <td>9</td>\n",
              "      <td>100</td>\n",
              "      <td>94112</td>\n",
              "      <td>1</td>\n",
              "      <td>2.7</td>\n",
              "      <td>2</td>\n",
              "      <td>0</td>\n",
              "      <td>0</td>\n",
              "      <td>0</td>\n",
              "      <td>0</td>\n",
              "      <td>0</td>\n",
              "      <td>0</td>\n",
              "    </tr>\n",
              "    <tr>\n",
              "      <th>4</th>\n",
              "      <td>5</td>\n",
              "      <td>35</td>\n",
              "      <td>8</td>\n",
              "      <td>45</td>\n",
              "      <td>91330</td>\n",
              "      <td>4</td>\n",
              "      <td>1.0</td>\n",
              "      <td>2</td>\n",
              "      <td>0</td>\n",
              "      <td>0</td>\n",
              "      <td>0</td>\n",
              "      <td>0</td>\n",
              "      <td>0</td>\n",
              "      <td>1</td>\n",
              "    </tr>\n",
              "  </tbody>\n",
              "</table>\n",
              "</div>"
            ],
            "text/plain": [
              "   ID  Age  Experience  ...  CD Account  Online  CreditCard\n",
              "0   1   25           1  ...           0       0           0\n",
              "1   2   45          19  ...           0       0           0\n",
              "2   3   39          15  ...           0       0           0\n",
              "3   4   35           9  ...           0       0           0\n",
              "4   5   35           8  ...           0       0           1\n",
              "\n",
              "[5 rows x 14 columns]"
            ]
          },
          "metadata": {
            "tags": []
          },
          "execution_count": 402
        }
      ]
    },
    {
      "cell_type": "code",
      "metadata": {
        "id": "VWheVOiDJS7C",
        "colab_type": "code",
        "colab": {
          "base_uri": "https://localhost:8080/",
          "height": 194
        },
        "outputId": "d8db9d6c-d21b-4367-ca1f-ed4356aea70d"
      },
      "source": [
        "#Displaying the last 5 rows of uploaded data\n",
        "\n",
        "df.tail() "
      ],
      "execution_count": null,
      "outputs": [
        {
          "output_type": "execute_result",
          "data": {
            "text/html": [
              "<div>\n",
              "<style scoped>\n",
              "    .dataframe tbody tr th:only-of-type {\n",
              "        vertical-align: middle;\n",
              "    }\n",
              "\n",
              "    .dataframe tbody tr th {\n",
              "        vertical-align: top;\n",
              "    }\n",
              "\n",
              "    .dataframe thead th {\n",
              "        text-align: right;\n",
              "    }\n",
              "</style>\n",
              "<table border=\"1\" class=\"dataframe\">\n",
              "  <thead>\n",
              "    <tr style=\"text-align: right;\">\n",
              "      <th></th>\n",
              "      <th>ID</th>\n",
              "      <th>Age</th>\n",
              "      <th>Experience</th>\n",
              "      <th>Income</th>\n",
              "      <th>ZIP Code</th>\n",
              "      <th>Family</th>\n",
              "      <th>CCAvg</th>\n",
              "      <th>Education</th>\n",
              "      <th>Mortgage</th>\n",
              "      <th>Personal Loan</th>\n",
              "      <th>Securities Account</th>\n",
              "      <th>CD Account</th>\n",
              "      <th>Online</th>\n",
              "      <th>CreditCard</th>\n",
              "    </tr>\n",
              "  </thead>\n",
              "  <tbody>\n",
              "    <tr>\n",
              "      <th>4995</th>\n",
              "      <td>4996</td>\n",
              "      <td>29</td>\n",
              "      <td>3</td>\n",
              "      <td>40</td>\n",
              "      <td>92697</td>\n",
              "      <td>1</td>\n",
              "      <td>1.9</td>\n",
              "      <td>3</td>\n",
              "      <td>0</td>\n",
              "      <td>0</td>\n",
              "      <td>0</td>\n",
              "      <td>0</td>\n",
              "      <td>1</td>\n",
              "      <td>0</td>\n",
              "    </tr>\n",
              "    <tr>\n",
              "      <th>4996</th>\n",
              "      <td>4997</td>\n",
              "      <td>30</td>\n",
              "      <td>4</td>\n",
              "      <td>15</td>\n",
              "      <td>92037</td>\n",
              "      <td>4</td>\n",
              "      <td>0.4</td>\n",
              "      <td>1</td>\n",
              "      <td>85</td>\n",
              "      <td>0</td>\n",
              "      <td>0</td>\n",
              "      <td>0</td>\n",
              "      <td>1</td>\n",
              "      <td>0</td>\n",
              "    </tr>\n",
              "    <tr>\n",
              "      <th>4997</th>\n",
              "      <td>4998</td>\n",
              "      <td>63</td>\n",
              "      <td>39</td>\n",
              "      <td>24</td>\n",
              "      <td>93023</td>\n",
              "      <td>2</td>\n",
              "      <td>0.3</td>\n",
              "      <td>3</td>\n",
              "      <td>0</td>\n",
              "      <td>0</td>\n",
              "      <td>0</td>\n",
              "      <td>0</td>\n",
              "      <td>0</td>\n",
              "      <td>0</td>\n",
              "    </tr>\n",
              "    <tr>\n",
              "      <th>4998</th>\n",
              "      <td>4999</td>\n",
              "      <td>65</td>\n",
              "      <td>40</td>\n",
              "      <td>49</td>\n",
              "      <td>90034</td>\n",
              "      <td>3</td>\n",
              "      <td>0.5</td>\n",
              "      <td>2</td>\n",
              "      <td>0</td>\n",
              "      <td>0</td>\n",
              "      <td>0</td>\n",
              "      <td>0</td>\n",
              "      <td>1</td>\n",
              "      <td>0</td>\n",
              "    </tr>\n",
              "    <tr>\n",
              "      <th>4999</th>\n",
              "      <td>5000</td>\n",
              "      <td>28</td>\n",
              "      <td>4</td>\n",
              "      <td>83</td>\n",
              "      <td>92612</td>\n",
              "      <td>3</td>\n",
              "      <td>0.8</td>\n",
              "      <td>1</td>\n",
              "      <td>0</td>\n",
              "      <td>0</td>\n",
              "      <td>0</td>\n",
              "      <td>0</td>\n",
              "      <td>1</td>\n",
              "      <td>1</td>\n",
              "    </tr>\n",
              "  </tbody>\n",
              "</table>\n",
              "</div>"
            ],
            "text/plain": [
              "        ID  Age  Experience  ...  CD Account  Online  CreditCard\n",
              "4995  4996   29           3  ...           0       1           0\n",
              "4996  4997   30           4  ...           0       1           0\n",
              "4997  4998   63          39  ...           0       0           0\n",
              "4998  4999   65          40  ...           0       1           0\n",
              "4999  5000   28           4  ...           0       1           1\n",
              "\n",
              "[5 rows x 14 columns]"
            ]
          },
          "metadata": {
            "tags": []
          },
          "execution_count": 403
        }
      ]
    },
    {
      "cell_type": "code",
      "metadata": {
        "id": "1R_Mo0x62KY1",
        "colab_type": "code",
        "colab": {
          "base_uri": "https://localhost:8080/",
          "height": 390
        },
        "outputId": "6126cb0d-d874-4224-8202-fad27f4d5753"
      },
      "source": [
        "#Checking DataType\n",
        "\n",
        "df.info() "
      ],
      "execution_count": null,
      "outputs": [
        {
          "output_type": "stream",
          "text": [
            "<class 'pandas.core.frame.DataFrame'>\n",
            "RangeIndex: 5000 entries, 0 to 4999\n",
            "Data columns (total 14 columns):\n",
            " #   Column              Non-Null Count  Dtype  \n",
            "---  ------              --------------  -----  \n",
            " 0   ID                  5000 non-null   int64  \n",
            " 1   Age                 5000 non-null   int64  \n",
            " 2   Experience          5000 non-null   int64  \n",
            " 3   Income              5000 non-null   int64  \n",
            " 4   ZIP Code            5000 non-null   int64  \n",
            " 5   Family              5000 non-null   int64  \n",
            " 6   CCAvg               5000 non-null   float64\n",
            " 7   Education           5000 non-null   int64  \n",
            " 8   Mortgage            5000 non-null   int64  \n",
            " 9   Personal Loan       5000 non-null   int64  \n",
            " 10  Securities Account  5000 non-null   int64  \n",
            " 11  CD Account          5000 non-null   int64  \n",
            " 12  Online              5000 non-null   int64  \n",
            " 13  CreditCard          5000 non-null   int64  \n",
            "dtypes: float64(1), int64(13)\n",
            "memory usage: 547.0 KB\n"
          ],
          "name": "stdout"
        }
      ]
    },
    {
      "cell_type": "markdown",
      "metadata": {
        "id": "7O3Wata0K6ti",
        "colab_type": "text"
      },
      "source": [
        "AlMost all  datatype are numeric  here.\n",
        "\n",
        "\">>>>>>>>>>>>>>>>>>>>>>>>>>>>"
      ]
    },
    {
      "cell_type": "code",
      "metadata": {
        "id": "_LzqY373uNjV",
        "colab_type": "code",
        "colab": {
          "base_uri": "https://localhost:8080/",
          "height": 319
        },
        "outputId": "706270f0-ad24-40b2-b42b-550e4472ad39"
      },
      "source": [
        "#Statistical Summarry(Mean,Standard Deviation)\n",
        "\n",
        "df.describe() "
      ],
      "execution_count": null,
      "outputs": [
        {
          "output_type": "execute_result",
          "data": {
            "text/html": [
              "<div>\n",
              "<style scoped>\n",
              "    .dataframe tbody tr th:only-of-type {\n",
              "        vertical-align: middle;\n",
              "    }\n",
              "\n",
              "    .dataframe tbody tr th {\n",
              "        vertical-align: top;\n",
              "    }\n",
              "\n",
              "    .dataframe thead th {\n",
              "        text-align: right;\n",
              "    }\n",
              "</style>\n",
              "<table border=\"1\" class=\"dataframe\">\n",
              "  <thead>\n",
              "    <tr style=\"text-align: right;\">\n",
              "      <th></th>\n",
              "      <th>ID</th>\n",
              "      <th>Age</th>\n",
              "      <th>Experience</th>\n",
              "      <th>Income</th>\n",
              "      <th>ZIP Code</th>\n",
              "      <th>Family</th>\n",
              "      <th>CCAvg</th>\n",
              "      <th>Education</th>\n",
              "      <th>Mortgage</th>\n",
              "      <th>Personal Loan</th>\n",
              "      <th>Securities Account</th>\n",
              "      <th>CD Account</th>\n",
              "      <th>Online</th>\n",
              "      <th>CreditCard</th>\n",
              "    </tr>\n",
              "  </thead>\n",
              "  <tbody>\n",
              "    <tr>\n",
              "      <th>count</th>\n",
              "      <td>5000.000000</td>\n",
              "      <td>5000.000000</td>\n",
              "      <td>5000.000000</td>\n",
              "      <td>5000.000000</td>\n",
              "      <td>5000.000000</td>\n",
              "      <td>5000.000000</td>\n",
              "      <td>5000.000000</td>\n",
              "      <td>5000.000000</td>\n",
              "      <td>5000.000000</td>\n",
              "      <td>5000.000000</td>\n",
              "      <td>5000.000000</td>\n",
              "      <td>5000.00000</td>\n",
              "      <td>5000.000000</td>\n",
              "      <td>5000.000000</td>\n",
              "    </tr>\n",
              "    <tr>\n",
              "      <th>mean</th>\n",
              "      <td>2500.500000</td>\n",
              "      <td>45.338400</td>\n",
              "      <td>20.104600</td>\n",
              "      <td>73.774200</td>\n",
              "      <td>93152.503000</td>\n",
              "      <td>2.396400</td>\n",
              "      <td>1.937938</td>\n",
              "      <td>1.881000</td>\n",
              "      <td>56.498800</td>\n",
              "      <td>0.096000</td>\n",
              "      <td>0.104400</td>\n",
              "      <td>0.06040</td>\n",
              "      <td>0.596800</td>\n",
              "      <td>0.294000</td>\n",
              "    </tr>\n",
              "    <tr>\n",
              "      <th>std</th>\n",
              "      <td>1443.520003</td>\n",
              "      <td>11.463166</td>\n",
              "      <td>11.467954</td>\n",
              "      <td>46.033729</td>\n",
              "      <td>2121.852197</td>\n",
              "      <td>1.147663</td>\n",
              "      <td>1.747659</td>\n",
              "      <td>0.839869</td>\n",
              "      <td>101.713802</td>\n",
              "      <td>0.294621</td>\n",
              "      <td>0.305809</td>\n",
              "      <td>0.23825</td>\n",
              "      <td>0.490589</td>\n",
              "      <td>0.455637</td>\n",
              "    </tr>\n",
              "    <tr>\n",
              "      <th>min</th>\n",
              "      <td>1.000000</td>\n",
              "      <td>23.000000</td>\n",
              "      <td>-3.000000</td>\n",
              "      <td>8.000000</td>\n",
              "      <td>9307.000000</td>\n",
              "      <td>1.000000</td>\n",
              "      <td>0.000000</td>\n",
              "      <td>1.000000</td>\n",
              "      <td>0.000000</td>\n",
              "      <td>0.000000</td>\n",
              "      <td>0.000000</td>\n",
              "      <td>0.00000</td>\n",
              "      <td>0.000000</td>\n",
              "      <td>0.000000</td>\n",
              "    </tr>\n",
              "    <tr>\n",
              "      <th>25%</th>\n",
              "      <td>1250.750000</td>\n",
              "      <td>35.000000</td>\n",
              "      <td>10.000000</td>\n",
              "      <td>39.000000</td>\n",
              "      <td>91911.000000</td>\n",
              "      <td>1.000000</td>\n",
              "      <td>0.700000</td>\n",
              "      <td>1.000000</td>\n",
              "      <td>0.000000</td>\n",
              "      <td>0.000000</td>\n",
              "      <td>0.000000</td>\n",
              "      <td>0.00000</td>\n",
              "      <td>0.000000</td>\n",
              "      <td>0.000000</td>\n",
              "    </tr>\n",
              "    <tr>\n",
              "      <th>50%</th>\n",
              "      <td>2500.500000</td>\n",
              "      <td>45.000000</td>\n",
              "      <td>20.000000</td>\n",
              "      <td>64.000000</td>\n",
              "      <td>93437.000000</td>\n",
              "      <td>2.000000</td>\n",
              "      <td>1.500000</td>\n",
              "      <td>2.000000</td>\n",
              "      <td>0.000000</td>\n",
              "      <td>0.000000</td>\n",
              "      <td>0.000000</td>\n",
              "      <td>0.00000</td>\n",
              "      <td>1.000000</td>\n",
              "      <td>0.000000</td>\n",
              "    </tr>\n",
              "    <tr>\n",
              "      <th>75%</th>\n",
              "      <td>3750.250000</td>\n",
              "      <td>55.000000</td>\n",
              "      <td>30.000000</td>\n",
              "      <td>98.000000</td>\n",
              "      <td>94608.000000</td>\n",
              "      <td>3.000000</td>\n",
              "      <td>2.500000</td>\n",
              "      <td>3.000000</td>\n",
              "      <td>101.000000</td>\n",
              "      <td>0.000000</td>\n",
              "      <td>0.000000</td>\n",
              "      <td>0.00000</td>\n",
              "      <td>1.000000</td>\n",
              "      <td>1.000000</td>\n",
              "    </tr>\n",
              "    <tr>\n",
              "      <th>max</th>\n",
              "      <td>5000.000000</td>\n",
              "      <td>67.000000</td>\n",
              "      <td>43.000000</td>\n",
              "      <td>224.000000</td>\n",
              "      <td>96651.000000</td>\n",
              "      <td>4.000000</td>\n",
              "      <td>10.000000</td>\n",
              "      <td>3.000000</td>\n",
              "      <td>635.000000</td>\n",
              "      <td>1.000000</td>\n",
              "      <td>1.000000</td>\n",
              "      <td>1.00000</td>\n",
              "      <td>1.000000</td>\n",
              "      <td>1.000000</td>\n",
              "    </tr>\n",
              "  </tbody>\n",
              "</table>\n",
              "</div>"
            ],
            "text/plain": [
              "                ID          Age  ...       Online   CreditCard\n",
              "count  5000.000000  5000.000000  ...  5000.000000  5000.000000\n",
              "mean   2500.500000    45.338400  ...     0.596800     0.294000\n",
              "std    1443.520003    11.463166  ...     0.490589     0.455637\n",
              "min       1.000000    23.000000  ...     0.000000     0.000000\n",
              "25%    1250.750000    35.000000  ...     0.000000     0.000000\n",
              "50%    2500.500000    45.000000  ...     1.000000     0.000000\n",
              "75%    3750.250000    55.000000  ...     1.000000     1.000000\n",
              "max    5000.000000    67.000000  ...     1.000000     1.000000\n",
              "\n",
              "[8 rows x 14 columns]"
            ]
          },
          "metadata": {
            "tags": []
          },
          "execution_count": 405
        }
      ]
    },
    {
      "cell_type": "markdown",
      "metadata": {
        "id": "-VogBwxkKSUv",
        "colab_type": "text"
      },
      "source": [
        "Lot of insights can be taken away from the above table..\n",
        "\n",
        "for ex: we have see the shapeof our dataset which has 5000 rows and we \n",
        "\n",
        "can see here that count for every column is 5000\n",
        "\n",
        "so there are no null values.\n",
        "\n",
        "Similarly lot of statistical information is very useful.\n",
        "\n"
      ]
    },
    {
      "cell_type": "markdown",
      "metadata": {
        "id": "HLdH5X8Z78GB",
        "colab_type": "text"
      },
      "source": [
        "^^So here Personal Loan is our label and all other are our features..."
      ]
    },
    {
      "cell_type": "code",
      "metadata": {
        "id": "WcORkG9r8J0T",
        "colab_type": "code",
        "colab": {
          "base_uri": "https://localhost:8080/",
          "height": 35
        },
        "outputId": "e4279446-4f4f-4d51-d0ad-6276870c4af7"
      },
      "source": [
        "df.shape"
      ],
      "execution_count": null,
      "outputs": [
        {
          "output_type": "execute_result",
          "data": {
            "text/plain": [
              "(5000, 14)"
            ]
          },
          "metadata": {
            "tags": []
          },
          "execution_count": 406
        }
      ]
    },
    {
      "cell_type": "markdown",
      "metadata": {
        "id": "dACGHS-TKHkn",
        "colab_type": "text"
      },
      "source": [
        "There are 5000 rows and 14 columnns in our dataset\n",
        "\n"
      ]
    },
    {
      "cell_type": "markdown",
      "metadata": {
        "id": "xy8bs99YTE07",
        "colab_type": "text"
      },
      "source": [
        " **1.3)Checking for unique Values>>**"
      ]
    },
    {
      "cell_type": "code",
      "metadata": {
        "id": "Swe4XcK6TDuE",
        "colab_type": "code",
        "colab": {
          "base_uri": "https://localhost:8080/",
          "height": 284
        },
        "outputId": "7bbe63cc-8b28-4d7c-8c64-c699bc8e47c0"
      },
      "source": [
        "df.nunique()"
      ],
      "execution_count": null,
      "outputs": [
        {
          "output_type": "execute_result",
          "data": {
            "text/plain": [
              "ID                    5000\n",
              "Age                     45\n",
              "Experience              47\n",
              "Income                 162\n",
              "ZIP Code               467\n",
              "Family                   4\n",
              "CCAvg                  108\n",
              "Education                3\n",
              "Mortgage               347\n",
              "Personal Loan            2\n",
              "Securities Account       2\n",
              "CD Account               2\n",
              "Online                   2\n",
              "CreditCard               2\n",
              "dtype: int64"
            ]
          },
          "metadata": {
            "tags": []
          },
          "execution_count": 407
        }
      ]
    },
    {
      "cell_type": "markdown",
      "metadata": {
        "id": "cl874a4-M-VW",
        "colab_type": "text"
      },
      "source": [
        "^^Ok here we can see  that there are many categorical data like Mortgage,CreditCard,etc.as well which can be important in splitting of dataset we need to take care of that\n",
        "\n"
      ]
    },
    {
      "cell_type": "markdown",
      "metadata": {
        "id": "eXLldrmL0jfm",
        "colab_type": "text"
      },
      "source": [
        "**1.4)Checking for any null values>>**\n"
      ]
    },
    {
      "cell_type": "code",
      "metadata": {
        "id": "3KylmWXBvd7_",
        "colab_type": "code",
        "colab": {
          "base_uri": "https://localhost:8080/",
          "height": 284
        },
        "outputId": "4121c475-a086-4dd7-a90b-3d86f771b3fa"
      },
      "source": [
        "df.isnull().sum()  #No null values\n"
      ],
      "execution_count": null,
      "outputs": [
        {
          "output_type": "execute_result",
          "data": {
            "text/plain": [
              "ID                    0\n",
              "Age                   0\n",
              "Experience            0\n",
              "Income                0\n",
              "ZIP Code              0\n",
              "Family                0\n",
              "CCAvg                 0\n",
              "Education             0\n",
              "Mortgage              0\n",
              "Personal Loan         0\n",
              "Securities Account    0\n",
              "CD Account            0\n",
              "Online                0\n",
              "CreditCard            0\n",
              "dtype: int64"
            ]
          },
          "metadata": {
            "tags": []
          },
          "execution_count": 408
        }
      ]
    },
    {
      "cell_type": "markdown",
      "metadata": {
        "id": "m1aCzwsJ9cGj",
        "colab_type": "text"
      },
      "source": [
        "# ***2)Data Cleaning>>***"
      ]
    },
    {
      "cell_type": "markdown",
      "metadata": {
        "id": "0Ofc5UdVNZQk",
        "colab_type": "text"
      },
      "source": [
        "Data cleaning is neccessary step where we discard datas given to us ,which have no relation with the target(label) dataset "
      ]
    },
    {
      "cell_type": "markdown",
      "metadata": {
        "id": "B4alGvT39tgB",
        "colab_type": "text"
      },
      "source": [
        "\n",
        "\n",
        "\n",
        "a)setting ID as serial No.\n",
        "\n",
        "b)Checking for any faulty values like in Experiance"
      ]
    },
    {
      "cell_type": "code",
      "metadata": {
        "id": "Yho5tpxWA_vG",
        "colab_type": "code",
        "colab": {
          "base_uri": "https://localhost:8080/",
          "height": 319
        },
        "outputId": "46703859-fc1a-4dc0-af36-40a131537e02"
      },
      "source": [
        "df.describe()"
      ],
      "execution_count": null,
      "outputs": [
        {
          "output_type": "execute_result",
          "data": {
            "text/html": [
              "<div>\n",
              "<style scoped>\n",
              "    .dataframe tbody tr th:only-of-type {\n",
              "        vertical-align: middle;\n",
              "    }\n",
              "\n",
              "    .dataframe tbody tr th {\n",
              "        vertical-align: top;\n",
              "    }\n",
              "\n",
              "    .dataframe thead th {\n",
              "        text-align: right;\n",
              "    }\n",
              "</style>\n",
              "<table border=\"1\" class=\"dataframe\">\n",
              "  <thead>\n",
              "    <tr style=\"text-align: right;\">\n",
              "      <th></th>\n",
              "      <th>ID</th>\n",
              "      <th>Age</th>\n",
              "      <th>Experience</th>\n",
              "      <th>Income</th>\n",
              "      <th>ZIP Code</th>\n",
              "      <th>Family</th>\n",
              "      <th>CCAvg</th>\n",
              "      <th>Education</th>\n",
              "      <th>Mortgage</th>\n",
              "      <th>Personal Loan</th>\n",
              "      <th>Securities Account</th>\n",
              "      <th>CD Account</th>\n",
              "      <th>Online</th>\n",
              "      <th>CreditCard</th>\n",
              "    </tr>\n",
              "  </thead>\n",
              "  <tbody>\n",
              "    <tr>\n",
              "      <th>count</th>\n",
              "      <td>5000.000000</td>\n",
              "      <td>5000.000000</td>\n",
              "      <td>5000.000000</td>\n",
              "      <td>5000.000000</td>\n",
              "      <td>5000.000000</td>\n",
              "      <td>5000.000000</td>\n",
              "      <td>5000.000000</td>\n",
              "      <td>5000.000000</td>\n",
              "      <td>5000.000000</td>\n",
              "      <td>5000.000000</td>\n",
              "      <td>5000.000000</td>\n",
              "      <td>5000.00000</td>\n",
              "      <td>5000.000000</td>\n",
              "      <td>5000.000000</td>\n",
              "    </tr>\n",
              "    <tr>\n",
              "      <th>mean</th>\n",
              "      <td>2500.500000</td>\n",
              "      <td>45.338400</td>\n",
              "      <td>20.104600</td>\n",
              "      <td>73.774200</td>\n",
              "      <td>93152.503000</td>\n",
              "      <td>2.396400</td>\n",
              "      <td>1.937938</td>\n",
              "      <td>1.881000</td>\n",
              "      <td>56.498800</td>\n",
              "      <td>0.096000</td>\n",
              "      <td>0.104400</td>\n",
              "      <td>0.06040</td>\n",
              "      <td>0.596800</td>\n",
              "      <td>0.294000</td>\n",
              "    </tr>\n",
              "    <tr>\n",
              "      <th>std</th>\n",
              "      <td>1443.520003</td>\n",
              "      <td>11.463166</td>\n",
              "      <td>11.467954</td>\n",
              "      <td>46.033729</td>\n",
              "      <td>2121.852197</td>\n",
              "      <td>1.147663</td>\n",
              "      <td>1.747659</td>\n",
              "      <td>0.839869</td>\n",
              "      <td>101.713802</td>\n",
              "      <td>0.294621</td>\n",
              "      <td>0.305809</td>\n",
              "      <td>0.23825</td>\n",
              "      <td>0.490589</td>\n",
              "      <td>0.455637</td>\n",
              "    </tr>\n",
              "    <tr>\n",
              "      <th>min</th>\n",
              "      <td>1.000000</td>\n",
              "      <td>23.000000</td>\n",
              "      <td>-3.000000</td>\n",
              "      <td>8.000000</td>\n",
              "      <td>9307.000000</td>\n",
              "      <td>1.000000</td>\n",
              "      <td>0.000000</td>\n",
              "      <td>1.000000</td>\n",
              "      <td>0.000000</td>\n",
              "      <td>0.000000</td>\n",
              "      <td>0.000000</td>\n",
              "      <td>0.00000</td>\n",
              "      <td>0.000000</td>\n",
              "      <td>0.000000</td>\n",
              "    </tr>\n",
              "    <tr>\n",
              "      <th>25%</th>\n",
              "      <td>1250.750000</td>\n",
              "      <td>35.000000</td>\n",
              "      <td>10.000000</td>\n",
              "      <td>39.000000</td>\n",
              "      <td>91911.000000</td>\n",
              "      <td>1.000000</td>\n",
              "      <td>0.700000</td>\n",
              "      <td>1.000000</td>\n",
              "      <td>0.000000</td>\n",
              "      <td>0.000000</td>\n",
              "      <td>0.000000</td>\n",
              "      <td>0.00000</td>\n",
              "      <td>0.000000</td>\n",
              "      <td>0.000000</td>\n",
              "    </tr>\n",
              "    <tr>\n",
              "      <th>50%</th>\n",
              "      <td>2500.500000</td>\n",
              "      <td>45.000000</td>\n",
              "      <td>20.000000</td>\n",
              "      <td>64.000000</td>\n",
              "      <td>93437.000000</td>\n",
              "      <td>2.000000</td>\n",
              "      <td>1.500000</td>\n",
              "      <td>2.000000</td>\n",
              "      <td>0.000000</td>\n",
              "      <td>0.000000</td>\n",
              "      <td>0.000000</td>\n",
              "      <td>0.00000</td>\n",
              "      <td>1.000000</td>\n",
              "      <td>0.000000</td>\n",
              "    </tr>\n",
              "    <tr>\n",
              "      <th>75%</th>\n",
              "      <td>3750.250000</td>\n",
              "      <td>55.000000</td>\n",
              "      <td>30.000000</td>\n",
              "      <td>98.000000</td>\n",
              "      <td>94608.000000</td>\n",
              "      <td>3.000000</td>\n",
              "      <td>2.500000</td>\n",
              "      <td>3.000000</td>\n",
              "      <td>101.000000</td>\n",
              "      <td>0.000000</td>\n",
              "      <td>0.000000</td>\n",
              "      <td>0.00000</td>\n",
              "      <td>1.000000</td>\n",
              "      <td>1.000000</td>\n",
              "    </tr>\n",
              "    <tr>\n",
              "      <th>max</th>\n",
              "      <td>5000.000000</td>\n",
              "      <td>67.000000</td>\n",
              "      <td>43.000000</td>\n",
              "      <td>224.000000</td>\n",
              "      <td>96651.000000</td>\n",
              "      <td>4.000000</td>\n",
              "      <td>10.000000</td>\n",
              "      <td>3.000000</td>\n",
              "      <td>635.000000</td>\n",
              "      <td>1.000000</td>\n",
              "      <td>1.000000</td>\n",
              "      <td>1.00000</td>\n",
              "      <td>1.000000</td>\n",
              "      <td>1.000000</td>\n",
              "    </tr>\n",
              "  </tbody>\n",
              "</table>\n",
              "</div>"
            ],
            "text/plain": [
              "                ID          Age  ...       Online   CreditCard\n",
              "count  5000.000000  5000.000000  ...  5000.000000  5000.000000\n",
              "mean   2500.500000    45.338400  ...     0.596800     0.294000\n",
              "std    1443.520003    11.463166  ...     0.490589     0.455637\n",
              "min       1.000000    23.000000  ...     0.000000     0.000000\n",
              "25%    1250.750000    35.000000  ...     0.000000     0.000000\n",
              "50%    2500.500000    45.000000  ...     1.000000     0.000000\n",
              "75%    3750.250000    55.000000  ...     1.000000     1.000000\n",
              "max    5000.000000    67.000000  ...     1.000000     1.000000\n",
              "\n",
              "[8 rows x 14 columns]"
            ]
          },
          "metadata": {
            "tags": []
          },
          "execution_count": 409
        }
      ]
    },
    {
      "cell_type": "markdown",
      "metadata": {
        "id": "9pO1wEPoqvgt",
        "colab_type": "text"
      },
      "source": [
        "As we have seen that we have min val of -3 in Experience so we will change it to median>>>"
      ]
    },
    {
      "cell_type": "code",
      "metadata": {
        "id": "f7mwCAf0B-BD",
        "colab_type": "code",
        "colab": {
          "base_uri": "https://localhost:8080/",
          "height": 35
        },
        "outputId": "6ffe4fe8-6717-4966-f827-fadf3f2de701"
      },
      "source": [
        "median=df['Experience'].median()\n",
        "print(median)"
      ],
      "execution_count": null,
      "outputs": [
        {
          "output_type": "stream",
          "text": [
            "20.0\n"
          ],
          "name": "stdout"
        }
      ]
    },
    {
      "cell_type": "code",
      "metadata": {
        "id": "7hClLMfIS3T2",
        "colab_type": "code",
        "colab": {}
      },
      "source": [
        "col=['Experience']                            #Changed all negative values in Experiance column\n",
        "df[col]=df[col].mask(df[col]<0,median)\n"
      ],
      "execution_count": null,
      "outputs": []
    },
    {
      "cell_type": "markdown",
      "metadata": {
        "id": "-MtvSxkrOEo0",
        "colab_type": "text"
      },
      "source": [
        "^^Here we have seen few unrelevant information given to us which we have taken care about.\n",
        "\n",
        "**Note:**\n",
        "\n",
        "Important point is that this is not the last step of data cleaning wherever we will found unrelevant correlation with our target value we will to data cleaning process"
      ]
    },
    {
      "cell_type": "markdown",
      "metadata": {
        "id": "vSCNQK4JxioR",
        "colab_type": "text"
      },
      "source": [
        "# 3)**EDA**"
      ]
    },
    {
      "cell_type": "markdown",
      "metadata": {
        "id": "2LTjLn2qpQmJ",
        "colab_type": "text"
      },
      "source": [
        "** Now we will do exploratory data analysis by visualization and summarizing main characteristics which effects our target\n"
      ]
    },
    {
      "cell_type": "markdown",
      "metadata": {
        "id": "QbSKwdlSIOBo",
        "colab_type": "text"
      },
      "source": [
        "Also we will be doing(Data cleaning as well)"
      ]
    },
    {
      "cell_type": "markdown",
      "metadata": {
        "id": "p3hZOCjtauDF",
        "colab_type": "text"
      },
      "source": [
        "**3.1)Counting all categorical and numerical values**"
      ]
    },
    {
      "cell_type": "code",
      "metadata": {
        "id": "Dw2xU4v5ci4k",
        "colab_type": "code",
        "colab": {
          "base_uri": "https://localhost:8080/",
          "height": 106
        },
        "outputId": "1cefe2cc-f9fd-4490-f73a-5320a3583fb3"
      },
      "source": [
        "df['Family'].value_counts()"
      ],
      "execution_count": null,
      "outputs": [
        {
          "output_type": "execute_result",
          "data": {
            "text/plain": [
              "1    1472\n",
              "2    1296\n",
              "4    1222\n",
              "3    1010\n",
              "Name: Family, dtype: int64"
            ]
          },
          "metadata": {
            "tags": []
          },
          "execution_count": 412
        }
      ]
    },
    {
      "cell_type": "markdown",
      "metadata": {
        "id": "yaPsm6tvJuDA",
        "colab_type": "text"
      },
      "source": [
        "^^ here we can see that there is not much diffrence in count of family members\n"
      ]
    },
    {
      "cell_type": "code",
      "metadata": {
        "id": "drszuSreeKaE",
        "colab_type": "code",
        "colab": {
          "base_uri": "https://localhost:8080/",
          "height": 35
        },
        "outputId": "cc99349d-5b68-4052-8254-66ccdf5586c8"
      },
      "source": [
        "(df.Mortgage==0).sum()   "
      ],
      "execution_count": null,
      "outputs": [
        {
          "output_type": "execute_result",
          "data": {
            "text/plain": [
              "3462"
            ]
          },
          "metadata": {
            "tags": []
          },
          "execution_count": 413
        }
      ]
    },
    {
      "cell_type": "markdown",
      "metadata": {
        "id": "aV64R15eJ3Tv",
        "colab_type": "text"
      },
      "source": [
        "^^This shows the no. of people have no home loans which is quite high"
      ]
    },
    {
      "cell_type": "code",
      "metadata": {
        "id": "LP4vlanseWvJ",
        "colab_type": "code",
        "colab": {
          "base_uri": "https://localhost:8080/",
          "height": 70
        },
        "outputId": "b1dbe1ae-4015-435e-b039-721fa99b5235"
      },
      "source": [
        "df['Securities Account'].value_counts()"
      ],
      "execution_count": null,
      "outputs": [
        {
          "output_type": "execute_result",
          "data": {
            "text/plain": [
              "0    4478\n",
              "1     522\n",
              "Name: Securities Account, dtype: int64"
            ]
          },
          "metadata": {
            "tags": []
          },
          "execution_count": 414
        }
      ]
    },
    {
      "cell_type": "code",
      "metadata": {
        "id": "Lo_PNcu3e1i6",
        "colab_type": "code",
        "colab": {
          "base_uri": "https://localhost:8080/",
          "height": 88
        },
        "outputId": "e1fce170-1ff1-492b-979a-2a8bca6a25f6"
      },
      "source": [
        "df['Education'].value_counts()"
      ],
      "execution_count": null,
      "outputs": [
        {
          "output_type": "execute_result",
          "data": {
            "text/plain": [
              "1    2096\n",
              "3    1501\n",
              "2    1403\n",
              "Name: Education, dtype: int64"
            ]
          },
          "metadata": {
            "tags": []
          },
          "execution_count": 415
        }
      ]
    },
    {
      "cell_type": "markdown",
      "metadata": {
        "id": "ItjNetS0LnaH",
        "colab_type": "text"
      },
      "source": [
        "^^ **Insights**:Most of them is UnderGrad and they seldomly need loans"
      ]
    },
    {
      "cell_type": "code",
      "metadata": {
        "id": "sWi5nX3je6T7",
        "colab_type": "code",
        "colab": {
          "base_uri": "https://localhost:8080/",
          "height": 70
        },
        "outputId": "87adc180-07b5-4759-e8fb-f7bfba6c3a3d"
      },
      "source": [
        "df['CD Account'].value_counts()"
      ],
      "execution_count": null,
      "outputs": [
        {
          "output_type": "execute_result",
          "data": {
            "text/plain": [
              "0    4698\n",
              "1     302\n",
              "Name: CD Account, dtype: int64"
            ]
          },
          "metadata": {
            "tags": []
          },
          "execution_count": 416
        }
      ]
    },
    {
      "cell_type": "markdown",
      "metadata": {
        "id": "UK4qRE4xgiJ7",
        "colab_type": "text"
      },
      "source": [
        "**^Take away:**\n",
        "a)Almost 4500 people doesn't have credit card account\n",
        "\n",
        "b)Almost 4500 people doesn't have  Securities account\n",
        "\n",
        "c)Almost 3500 people have 0 mortgage "
      ]
    },
    {
      "cell_type": "markdown",
      "metadata": {
        "id": "vPdYhu1cfHCh",
        "colab_type": "text"
      },
      "source": [
        "**3.2)Univariate Analysis>>>**"
      ]
    },
    {
      "cell_type": "markdown",
      "metadata": {
        "id": "309CF4d2fW9B",
        "colab_type": "text"
      },
      "source": [
        "Looking more deeply to the dataset by doing univariate analysis\n",
        "\n",
        "Seeing the distribution of all  numerical features"
      ]
    },
    {
      "cell_type": "code",
      "metadata": {
        "id": "vqHZ23JVfLfz",
        "colab_type": "code",
        "colab": {
          "base_uri": "https://localhost:8080/",
          "height": 303
        },
        "outputId": "44b4a856-4b4f-42e8-f2a3-620c9a866ae6"
      },
      "source": [
        "sns.distplot(df.Age,color=\"green\")"
      ],
      "execution_count": null,
      "outputs": [
        {
          "output_type": "execute_result",
          "data": {
            "text/plain": [
              "<matplotlib.axes._subplots.AxesSubplot at 0x7f9fe09cbe10>"
            ]
          },
          "metadata": {
            "tags": []
          },
          "execution_count": 417
        },
        {
          "output_type": "display_data",
          "data": {
            "image/png": "[encoded data removed]",
            "text/plain": [
              "<Figure size 432x288 with 1 Axes>"
            ]
          },
          "metadata": {
            "tags": [],
            "needs_background": "light"
          }
        }
      ]
    },
    {
      "cell_type": "markdown",
      "metadata": {
        "id": "isZVvS8ZZ0GU",
        "colab_type": "text"
      },
      "source": [
        "\n",
        "Checking relation between education and Personal loan"
      ]
    },
    {
      "cell_type": "code",
      "metadata": {
        "id": "gcODo97JhWii",
        "colab_type": "code",
        "colab": {
          "base_uri": "https://localhost:8080/",
          "height": 303
        },
        "outputId": "254403d0-6e8e-4d33-9d33-2fdf10c6883a"
      },
      "source": [
        "sns.distplot(df.Mortgage,color=\"green\")"
      ],
      "execution_count": null,
      "outputs": [
        {
          "output_type": "execute_result",
          "data": {
            "text/plain": [
              "<matplotlib.axes._subplots.AxesSubplot at 0x7f9fe0910c18>"
            ]
          },
          "metadata": {
            "tags": []
          },
          "execution_count": 418
        },
        {
          "output_type": "display_data",
          "data": {
            "image/png": "[encoded data removed]",
            "text/plain": [
              "<Figure size 432x288 with 1 Axes>"
            ]
          },
          "metadata": {
            "tags": [],
            "needs_background": "light"
          }
        }
      ]
    },
    {
      "cell_type": "markdown",
      "metadata": {
        "id": "fV-x7vjGDJvn",
        "colab_type": "text"
      },
      "source": [
        "^^can be seen clearly the graph is rightly skewed\n",
        "\n"
      ]
    },
    {
      "cell_type": "code",
      "metadata": {
        "id": "mo0P_7M7hkB-",
        "colab_type": "code",
        "colab": {
          "base_uri": "https://localhost:8080/",
          "height": 304
        },
        "outputId": "43496567-a1b0-4022-e154-717eebd7d0f8"
      },
      "source": [
        "sns.distplot(df.Income,color=\"green\")"
      ],
      "execution_count": null,
      "outputs": [
        {
          "output_type": "execute_result",
          "data": {
            "text/plain": [
              "<matplotlib.axes._subplots.AxesSubplot at 0x7f9fe07f3278>"
            ]
          },
          "metadata": {
            "tags": []
          },
          "execution_count": 419
        },
        {
          "output_type": "display_data",
          "data": {
            "image/png": "[encoded data removed]",
            "text/plain": [
              "<Figure size 432x288 with 1 Axes>"
            ]
          },
          "metadata": {
            "tags": [],
            "needs_background": "light"
          }
        }
      ]
    },
    {
      "cell_type": "code",
      "metadata": {
        "id": "oh8bXmJ2iEEw",
        "colab_type": "code",
        "colab": {
          "base_uri": "https://localhost:8080/",
          "height": 303
        },
        "outputId": "d64d44ec-82f7-4739-de62-151ac888f97a"
      },
      "source": [
        "sns.distplot(df.CCAvg,color=\"green\")"
      ],
      "execution_count": null,
      "outputs": [
        {
          "output_type": "execute_result",
          "data": {
            "text/plain": [
              "<matplotlib.axes._subplots.AxesSubplot at 0x7f9fe0792710>"
            ]
          },
          "metadata": {
            "tags": []
          },
          "execution_count": 420
        },
        {
          "output_type": "display_data",
          "data": {
            "image/png": "[encoded data removed]",
            "text/plain": [
              "<Figure size 432x288 with 1 Axes>"
            ]
          },
          "metadata": {
            "tags": [],
            "needs_background": "light"
          }
        }
      ]
    },
    {
      "cell_type": "code",
      "metadata": {
        "id": "Hqpr9r6C4LRw",
        "colab_type": "code",
        "colab": {
          "base_uri": "https://localhost:8080/",
          "height": 284
        },
        "outputId": "349dc380-85f4-4ad8-c27c-b4423c1b97a5"
      },
      "source": [
        "df.skew(axis=0,skipna=None)    #Needed for Normalazation"
      ],
      "execution_count": null,
      "outputs": [
        {
          "output_type": "execute_result",
          "data": {
            "text/plain": [
              "ID                     0.000000\n",
              "Age                   -0.029341\n",
              "Experience            -0.014100\n",
              "Income                 0.841339\n",
              "ZIP Code             -12.500221\n",
              "Family                 0.155221\n",
              "CCAvg                  1.598443\n",
              "Education              0.227093\n",
              "Mortgage               2.104002\n",
              "Personal Loan          2.743607\n",
              "Securities Account     2.588268\n",
              "CD Account             3.691714\n",
              "Online                -0.394785\n",
              "CreditCard             0.904589\n",
              "dtype: float64"
            ]
          },
          "metadata": {
            "tags": []
          },
          "execution_count": 421
        }
      ]
    },
    {
      "cell_type": "markdown",
      "metadata": {
        "id": "EySw61A0ibbH",
        "colab_type": "text"
      },
      "source": [
        "**^Many features like Mortgage ,CD account are skewed so we need to normalize the dataSet**"
      ]
    },
    {
      "cell_type": "markdown",
      "metadata": {
        "id": "GHZHDN_EisdB",
        "colab_type": "text"
      },
      "source": [
        "\n",
        "**3.3)Bivariate Analysis**\n"
      ]
    },
    {
      "cell_type": "code",
      "metadata": {
        "id": "dEh8YY5rkKLy",
        "colab_type": "code",
        "colab": {
          "base_uri": "https://localhost:8080/",
          "height": 354
        },
        "outputId": "657dc1bb-818e-4335-aaa6-cba8055262a6"
      },
      "source": [
        "edu=pd.crosstab(df['CreditCard'],df['Personal Loan'])\n",
        "edu.plot.bar(figsize=(5,5),stacked=True)"
      ],
      "execution_count": null,
      "outputs": [
        {
          "output_type": "execute_result",
          "data": {
            "text/plain": [
              "<matplotlib.axes._subplots.AxesSubplot at 0x7f9fe06f2160>"
            ]
          },
          "metadata": {
            "tags": []
          },
          "execution_count": 422
        },
        {
          "output_type": "display_data",
          "data": {
            "image/png": "[encoded data removed]",
            "text/plain": [
              "<Figure size 360x360 with 1 Axes>"
            ]
          },
          "metadata": {
            "tags": [],
            "needs_background": "light"
          }
        }
      ]
    },
    {
      "cell_type": "markdown",
      "metadata": {
        "id": "CZFe8fAUlObJ",
        "colab_type": "text"
      },
      "source": [
        "^People having no credit card tend to buy personal loans.."
      ]
    },
    {
      "cell_type": "code",
      "metadata": {
        "id": "l10eVuWJgX9h",
        "colab_type": "code",
        "colab": {
          "base_uri": "https://localhost:8080/",
          "height": 354
        },
        "outputId": "ec4beb2b-992a-4203-e4fe-562e9ca15be1"
      },
      "source": [
        "edu=pd.crosstab(df['Family'],df['Personal Loan'])\n",
        "edu.plot.bar(figsize=(5,5),stacked=True)"
      ],
      "execution_count": null,
      "outputs": [
        {
          "output_type": "execute_result",
          "data": {
            "text/plain": [
              "<matplotlib.axes._subplots.AxesSubplot at 0x7f9fe0652ef0>"
            ]
          },
          "metadata": {
            "tags": []
          },
          "execution_count": 423
        },
        {
          "output_type": "display_data",
          "data": {
            "image/png": "[encoded data removed]",
            "text/plain": [
              "<Figure size 360x360 with 1 Axes>"
            ]
          },
          "metadata": {
            "tags": [],
            "needs_background": "light"
          }
        }
      ]
    },
    {
      "cell_type": "markdown",
      "metadata": {
        "id": "Kwgy_SmYgvTJ",
        "colab_type": "text"
      },
      "source": [
        "^^No. of family members doesn't effect personal much so our hypothesis was wrong."
      ]
    },
    {
      "cell_type": "code",
      "metadata": {
        "id": "xR01y1pak_Qb",
        "colab_type": "code",
        "colab": {
          "base_uri": "https://localhost:8080/",
          "height": 368
        },
        "outputId": "eea9d9cb-290f-4f3a-99c8-1b95444484fb"
      },
      "source": [
        "edu=pd.crosstab(df['Mortgage'],df['Personal Loan'])\n",
        "edu.plot.bar(figsize=(5,5),stacked=True)"
      ],
      "execution_count": null,
      "outputs": [
        {
          "output_type": "execute_result",
          "data": {
            "text/plain": [
              "<matplotlib.axes._subplots.AxesSubplot at 0x7f9fe0631320>"
            ]
          },
          "metadata": {
            "tags": []
          },
          "execution_count": 424
        },
        {
          "output_type": "display_data",
          "data": {
            "image/png": "[encoded data removed]",
            "text/plain": [
              "<Figure size 360x360 with 1 Axes>"
            ]
          },
          "metadata": {
            "tags": [],
            "needs_background": "light"
          }
        }
      ]
    },
    {
      "cell_type": "code",
      "metadata": {
        "id": "LnoLPkBClbKY",
        "colab_type": "code",
        "colab": {
          "base_uri": "https://localhost:8080/",
          "height": 354
        },
        "outputId": "c92204ad-8b62-4a3d-c7fd-b5d2a0dd27ab"
      },
      "source": [
        "edu=pd.crosstab(df['Securities Account'],df['Personal Loan'])\n",
        "edu.plot.bar(figsize=(5,5),stacked=True)"
      ],
      "execution_count": null,
      "outputs": [
        {
          "output_type": "execute_result",
          "data": {
            "text/plain": [
              "<matplotlib.axes._subplots.AxesSubplot at 0x7f9fe03143c8>"
            ]
          },
          "metadata": {
            "tags": []
          },
          "execution_count": 425
        },
        {
          "output_type": "display_data",
          "data": {
            "image/png": "[encoded data removed]",
            "text/plain": [
              "<Figure size 360x360 with 1 Axes>"
            ]
          },
          "metadata": {
            "tags": [],
            "needs_background": "light"
          }
        }
      ]
    },
    {
      "cell_type": "markdown",
      "metadata": {
        "id": "REg3gvwClgEZ",
        "colab_type": "text"
      },
      "source": [
        "^People having no Securities Account tend to buy personal loans.."
      ]
    },
    {
      "cell_type": "code",
      "metadata": {
        "id": "olB4p-Gjj5fm",
        "colab_type": "code",
        "colab": {
          "base_uri": "https://localhost:8080/",
          "height": 303
        },
        "outputId": "b3faceb0-2a77-466e-80c8-1d84f57c4156"
      },
      "source": [
        "plt.xlabel(\"Income\")\n",
        "plt.ylabel(\"Personal Loan\")\n",
        "plt.scatter(df.Income,df['Personal Loan'])"
      ],
      "execution_count": null,
      "outputs": [
        {
          "output_type": "execute_result",
          "data": {
            "text/plain": [
              "<matplotlib.collections.PathCollection at 0x7f9fdfddb320>"
            ]
          },
          "metadata": {
            "tags": []
          },
          "execution_count": 426
        },
        {
          "output_type": "display_data",
          "data": {
            "image/png": "[encoded data removed]",
            "text/plain": [
              "<Figure size 432x288 with 1 Axes>"
            ]
          },
          "metadata": {
            "tags": [],
            "needs_background": "light"
          }
        }
      ]
    },
    {
      "cell_type": "markdown",
      "metadata": {
        "id": "4ap-UgwXk2je",
        "colab_type": "text"
      },
      "source": [
        "^^Personal with less income tend to buy more Loans"
      ]
    },
    {
      "cell_type": "markdown",
      "metadata": {
        "id": "LNrVVuYo_iad",
        "colab_type": "text"
      },
      "source": [
        "**Correlation between all numeric datatype in data frame**\n",
        "\n",
        "\n",
        "\n"
      ]
    },
    {
      "cell_type": "code",
      "metadata": {
        "id": "fTKczZCB_cuQ",
        "colab_type": "code",
        "colab": {
          "base_uri": "https://localhost:8080/",
          "height": 707
        },
        "outputId": "7bbb7a7c-213b-4681-ca9c-b4fb989848f7"
      },
      "source": [
        "correlations = df.corrwith(df['Personal Loan']).iloc[:-1].to_frame()\n",
        "correlations['abs'] = correlations[0].abs()\n",
        "sorted_correlations = correlations.sort_values('abs', ascending=False)[0]          \n",
        "fig, ax = plt.subplots(figsize=(8,12))\n",
        "sns.heatmap(sorted_correlations.to_frame(), cmap='cool', annot=True, vmin=-1, vmax=1, ax=ax);"
      ],
      "execution_count": null,
      "outputs": [
        {
          "output_type": "display_data",
          "data": {
            "image/png": "[encoded data removed]",
            "text/plain": [
              "<Figure size 576x864 with 2 Axes>"
            ]
          },
          "metadata": {
            "tags": [],
            "needs_background": "light"
          }
        }
      ]
    },
    {
      "cell_type": "markdown",
      "metadata": {
        "id": "43XivvRDjI2x",
        "colab_type": "text"
      },
      "source": [
        "As we can see ZIP code  is least correlated so it doesn't contribute to our target much\n"
      ]
    },
    {
      "cell_type": "code",
      "metadata": {
        "id": "qlaHO8E5jvGx",
        "colab_type": "code",
        "colab": {}
      },
      "source": [
        "#df.drop(['ZIP Code'],axis=1,inplace=True)"
      ],
      "execution_count": null,
      "outputs": []
    },
    {
      "cell_type": "code",
      "metadata": {
        "id": "8QJh7gLvmBGo",
        "colab_type": "code",
        "colab": {
          "base_uri": "https://localhost:8080/",
          "height": 582
        },
        "outputId": "cce1c58b-0d6f-4e15-b29b-1f464ad52dfd"
      },
      "source": [
        "df['CCAvg']=df['CCAvg'].astype('int64')\n",
        "corr = df.loc[:,df.dtypes == 'int64'].corr()\n",
        "sns.set(rc={'figure.figsize':(10,8)})\n",
        "sns.heatmap(corr, xticklabels=corr.columns, yticklabels=corr.columns, cmap=sns.cubehelix_palette(light=1, as_cmap=True));"
      ],
      "execution_count": null,
      "outputs": [
        {
          "output_type": "display_data",
          "data": {
            "image/png": "[encoded data removed]",
            "text/plain": [
              "<Figure size 720x576 with 2 Axes>"
            ]
          },
          "metadata": {
            "tags": []
          }
        }
      ]
    },
    {
      "cell_type": "markdown",
      "metadata": {
        "id": "ld9m0jJCoFbq",
        "colab_type": "text"
      },
      "source": [
        "**^Strongly correlated Features  with Personal Loan are**:\n",
        "\n",
        "1)CD Account\n",
        "\n",
        "2)Income\n",
        "\n",
        "3)CC Avg\n",
        "\n",
        "4)Mortgage \n"
      ]
    },
    {
      "cell_type": "markdown",
      "metadata": {
        "id": "mfGaz15z3JZI",
        "colab_type": "text"
      },
      "source": [
        "# **4)Applying Necessary Transformation in our features**"
      ]
    },
    {
      "cell_type": "markdown",
      "metadata": {
        "id": "yZY5TSOO52gw",
        "colab_type": "text"
      },
      "source": [
        "Now as we know that outliers skewness can effect our data seriously so\n",
        "\n",
        "we need to remove them>>>\n",
        "\n",
        "As we have come across our skewness of strongly correlated features \n",
        "so we will do *outlier treatment* and also try to remove skewness.\n",
        "\n",
        "Removing outliers and skeweness by Power Transformation \n",
        "We can also use z-score to do the Same\n",
        "\n"
      ]
    },
    {
      "cell_type": "code",
      "metadata": {
        "id": "NatUjsvVODsd",
        "colab_type": "code",
        "colab": {
          "base_uri": "https://localhost:8080/",
          "height": 356
        },
        "outputId": "ad0f1f38-d2b3-4c2d-e8a3-ea200136c9c8"
      },
      "source": [
        "import seaborn as sns       \n",
        "plt.figure(figsize=(10,5))                 #we can see the outliers in the below plot which are not present in box\n",
        "sns.boxplot(x=df['Income'])     \n",
        "print(\"Outliers present in Income\")            "
      ],
      "execution_count": null,
      "outputs": [
        {
          "output_type": "stream",
          "text": [
            "Outliers present in Income\n"
          ],
          "name": "stdout"
        },
        {
          "output_type": "display_data",
          "data": {
            "image/png": "[encoded data removed]",
            "text/plain": [
              "<Figure size 720x360 with 1 Axes>"
            ]
          },
          "metadata": {
            "tags": []
          }
        }
      ]
    },
    {
      "cell_type": "code",
      "metadata": {
        "id": "Q425lzpoPdOX",
        "colab_type": "code",
        "colab": {
          "base_uri": "https://localhost:8080/",
          "height": 356
        },
        "outputId": "df10cc38-7a22-46dc-b936-d5e69ad155bc"
      },
      "source": [
        "plt.figure(figsize=(10,5))\n",
        "sns.boxplot(x=df['CCAvg']) #Outliers exists\n",
        "print(\"Outliers present in CCAvg\")"
      ],
      "execution_count": null,
      "outputs": [
        {
          "output_type": "stream",
          "text": [
            "Outliers present in CCAvg\n"
          ],
          "name": "stdout"
        },
        {
          "output_type": "display_data",
          "data": {
            "image/png": "[encoded data removed]",
            "text/plain": [
              "<Figure size 720x360 with 1 Axes>"
            ]
          },
          "metadata": {
            "tags": []
          }
        }
      ]
    },
    {
      "cell_type": "markdown",
      "metadata": {
        "id": "WBqArgGmPfHd",
        "colab_type": "text"
      },
      "source": [
        "^^ In above steps we have remove outliers from our strongly correlated features."
      ]
    },
    {
      "cell_type": "markdown",
      "metadata": {
        "id": "jcH22YjkWJhI",
        "colab_type": "text"
      },
      "source": [
        "*** Removing skewness by Power Transformation***"
      ]
    },
    {
      "cell_type": "code",
      "metadata": {
        "id": "2FMGvq4mRqUN",
        "colab_type": "code",
        "colab": {}
      },
      "source": [
        "df1=df.copy()                               #making a copy of our dataframe\n",
        "X=df1.loc[:,df.columns!='Personal Loan']    #Excluding personal Loan target column\n",
        "Y=df1[['Personal Loan']]"
      ],
      "execution_count": null,
      "outputs": []
    },
    {
      "cell_type": "markdown",
      "metadata": {
        "id": "BhXCyd93zXX6",
        "colab_type": "text"
      },
      "source": [
        "***Used boxcox transformation for strictly positive values and yeo johnson for both negative and positive values...***"
      ]
    },
    {
      "cell_type": "code",
      "metadata": {
        "id": "2R8BsFovvT9j",
        "colab_type": "code",
        "colab": {
          "base_uri": "https://localhost:8080/",
          "height": 35
        },
        "outputId": "d1dd7510-c91b-4841-f2dd-db6afb5d3e62"
      },
      "source": [
        "from scipy import stats\n",
        "Inc_=stats.boxcox(df['Income'])[0]\n",
        "#Checking the skewness after applying transformation\n",
        "pd.Series(Inc_).skew()"
      ],
      "execution_count": null,
      "outputs": [
        {
          "output_type": "execute_result",
          "data": {
            "text/plain": [
              "-0.04074421862526263"
            ]
          },
          "metadata": {
            "tags": []
          },
          "execution_count": 433
        }
      ]
    },
    {
      "cell_type": "markdown",
      "metadata": {
        "id": "_jh1qf71QOPz",
        "colab_type": "text"
      },
      "source": [
        "^^ We have bring our income data more normalized ;\n",
        "previous skewness(0.84) to -0.03"
      ]
    },
    {
      "cell_type": "code",
      "metadata": {
        "id": "uu7cWK9rxhlV",
        "colab_type": "code",
        "colab": {
          "base_uri": "https://localhost:8080/",
          "height": 521
        },
        "outputId": "e8c20d59-229f-4e16-a21d-3143d4ea8359"
      },
      "source": [
        "df.Income=Inc_\n",
        "sns.distplot(df.Income,color=\"red\")\n",
        "print(\"Income After Applying Boxcox Transformation\")  "
      ],
      "execution_count": null,
      "outputs": [
        {
          "output_type": "stream",
          "text": [
            "Income After Applying Boxcox Transformation\n"
          ],
          "name": "stdout"
        },
        {
          "output_type": "display_data",
          "data": {
            "image/png": "[encoded data removed]",
            "text/plain": [
              "<Figure size 720x576 with 1 Axes>"
            ]
          },
          "metadata": {
            "tags": []
          }
        }
      ]
    },
    {
      "cell_type": "code",
      "metadata": {
        "id": "591OpmRfyPzl",
        "colab_type": "code",
        "colab": {
          "base_uri": "https://localhost:8080/",
          "height": 35
        },
        "outputId": "39190f59-657c-43fa-f805-e68bbeae1546"
      },
      "source": [
        "#Applying yeo johnson model for CCAvg\n",
        "ccavg=stats.yeojohnson(df['CCAvg'])[0]\n",
        "#Seeing my skewness after applying yeo-johnson\n",
        "pd.Series(ccavg).skew()"
      ],
      "execution_count": null,
      "outputs": [
        {
          "output_type": "execute_result",
          "data": {
            "text/plain": [
              "0.0685220295140723"
            ]
          },
          "metadata": {
            "tags": []
          },
          "execution_count": 435
        }
      ]
    },
    {
      "cell_type": "markdown",
      "metadata": {
        "id": "Rw96hfHlQlDr",
        "colab_type": "text"
      },
      "source": [
        "^^ We have bring our CCAvg data more normalized ;\n",
        "previous skewness(1.59) to -0.086\n",
        "*(Great)*"
      ]
    },
    {
      "cell_type": "code",
      "metadata": {
        "id": "yMgDnoBiyZh6",
        "colab_type": "code",
        "colab": {
          "base_uri": "https://localhost:8080/",
          "height": 520
        },
        "outputId": "1c3fe827-6535-40c3-e56a-47c581e98b8c"
      },
      "source": [
        "df.CCAvg=ccavg\n",
        "sns.distplot(df.CCAvg,color='red')\n",
        "print(\"CCAvg After Applying yeo-Johnson transformation\")  "
      ],
      "execution_count": null,
      "outputs": [
        {
          "output_type": "stream",
          "text": [
            "CCAvg After Applying yeo-Johnson transformation\n"
          ],
          "name": "stdout"
        },
        {
          "output_type": "display_data",
          "data": {
            "image/png": "[encoded data removed]",
            "text/plain": [
              "<Figure size 720x576 with 1 Axes>"
            ]
          },
          "metadata": {
            "tags": []
          }
        }
      ]
    },
    {
      "cell_type": "markdown",
      "metadata": {
        "id": "xGdKm9030Hjz",
        "colab_type": "text"
      },
      "source": [
        "**As we can se that mortgage has distinct values so we will use bins to normalize it>>>**"
      ]
    },
    {
      "cell_type": "code",
      "metadata": {
        "id": "jHYYI8600HI7",
        "colab_type": "code",
        "colab": {
          "base_uri": "https://localhost:8080/",
          "height": 399
        },
        "outputId": "4a10c1c8-14c4-4f8e-a514-52f474120d06"
      },
      "source": [
        "X['Mortgage_bin']=pd.cut(X['Mortgage'],bins=[0,100,200,300,400,500,600,700],labels=[0,1,2,3,4,5,6],include_lowest=True)\n",
        "X.drop('Mortgage',axis=1,inplace=False)"
      ],
      "execution_count": null,
      "outputs": [
        {
          "output_type": "execute_result",
          "data": {
            "text/html": [
              "<div>\n",
              "<style scoped>\n",
              "    .dataframe tbody tr th:only-of-type {\n",
              "        vertical-align: middle;\n",
              "    }\n",
              "\n",
              "    .dataframe tbody tr th {\n",
              "        vertical-align: top;\n",
              "    }\n",
              "\n",
              "    .dataframe thead th {\n",
              "        text-align: right;\n",
              "    }\n",
              "</style>\n",
              "<table border=\"1\" class=\"dataframe\">\n",
              "  <thead>\n",
              "    <tr style=\"text-align: right;\">\n",
              "      <th></th>\n",
              "      <th>ID</th>\n",
              "      <th>Age</th>\n",
              "      <th>Experience</th>\n",
              "      <th>Income</th>\n",
              "      <th>ZIP Code</th>\n",
              "      <th>Family</th>\n",
              "      <th>CCAvg</th>\n",
              "      <th>Education</th>\n",
              "      <th>Securities Account</th>\n",
              "      <th>CD Account</th>\n",
              "      <th>Online</th>\n",
              "      <th>CreditCard</th>\n",
              "      <th>Mortgage_bin</th>\n",
              "    </tr>\n",
              "  </thead>\n",
              "  <tbody>\n",
              "    <tr>\n",
              "      <th>0</th>\n",
              "      <td>1</td>\n",
              "      <td>25</td>\n",
              "      <td>1</td>\n",
              "      <td>49</td>\n",
              "      <td>91107</td>\n",
              "      <td>4</td>\n",
              "      <td>1</td>\n",
              "      <td>1</td>\n",
              "      <td>1</td>\n",
              "      <td>0</td>\n",
              "      <td>0</td>\n",
              "      <td>0</td>\n",
              "      <td>0</td>\n",
              "    </tr>\n",
              "    <tr>\n",
              "      <th>1</th>\n",
              "      <td>2</td>\n",
              "      <td>45</td>\n",
              "      <td>19</td>\n",
              "      <td>34</td>\n",
              "      <td>90089</td>\n",
              "      <td>3</td>\n",
              "      <td>1</td>\n",
              "      <td>1</td>\n",
              "      <td>1</td>\n",
              "      <td>0</td>\n",
              "      <td>0</td>\n",
              "      <td>0</td>\n",
              "      <td>0</td>\n",
              "    </tr>\n",
              "    <tr>\n",
              "      <th>2</th>\n",
              "      <td>3</td>\n",
              "      <td>39</td>\n",
              "      <td>15</td>\n",
              "      <td>11</td>\n",
              "      <td>94720</td>\n",
              "      <td>1</td>\n",
              "      <td>1</td>\n",
              "      <td>1</td>\n",
              "      <td>0</td>\n",
              "      <td>0</td>\n",
              "      <td>0</td>\n",
              "      <td>0</td>\n",
              "      <td>0</td>\n",
              "    </tr>\n",
              "    <tr>\n",
              "      <th>3</th>\n",
              "      <td>4</td>\n",
              "      <td>35</td>\n",
              "      <td>9</td>\n",
              "      <td>100</td>\n",
              "      <td>94112</td>\n",
              "      <td>1</td>\n",
              "      <td>2</td>\n",
              "      <td>2</td>\n",
              "      <td>0</td>\n",
              "      <td>0</td>\n",
              "      <td>0</td>\n",
              "      <td>0</td>\n",
              "      <td>0</td>\n",
              "    </tr>\n",
              "    <tr>\n",
              "      <th>4</th>\n",
              "      <td>5</td>\n",
              "      <td>35</td>\n",
              "      <td>8</td>\n",
              "      <td>45</td>\n",
              "      <td>91330</td>\n",
              "      <td>4</td>\n",
              "      <td>1</td>\n",
              "      <td>2</td>\n",
              "      <td>0</td>\n",
              "      <td>0</td>\n",
              "      <td>0</td>\n",
              "      <td>1</td>\n",
              "      <td>0</td>\n",
              "    </tr>\n",
              "    <tr>\n",
              "      <th>...</th>\n",
              "      <td>...</td>\n",
              "      <td>...</td>\n",
              "      <td>...</td>\n",
              "      <td>...</td>\n",
              "      <td>...</td>\n",
              "      <td>...</td>\n",
              "      <td>...</td>\n",
              "      <td>...</td>\n",
              "      <td>...</td>\n",
              "      <td>...</td>\n",
              "      <td>...</td>\n",
              "      <td>...</td>\n",
              "      <td>...</td>\n",
              "    </tr>\n",
              "    <tr>\n",
              "      <th>4995</th>\n",
              "      <td>4996</td>\n",
              "      <td>29</td>\n",
              "      <td>3</td>\n",
              "      <td>40</td>\n",
              "      <td>92697</td>\n",
              "      <td>1</td>\n",
              "      <td>1</td>\n",
              "      <td>3</td>\n",
              "      <td>0</td>\n",
              "      <td>0</td>\n",
              "      <td>1</td>\n",
              "      <td>0</td>\n",
              "      <td>0</td>\n",
              "    </tr>\n",
              "    <tr>\n",
              "      <th>4996</th>\n",
              "      <td>4997</td>\n",
              "      <td>30</td>\n",
              "      <td>4</td>\n",
              "      <td>15</td>\n",
              "      <td>92037</td>\n",
              "      <td>4</td>\n",
              "      <td>0</td>\n",
              "      <td>1</td>\n",
              "      <td>0</td>\n",
              "      <td>0</td>\n",
              "      <td>1</td>\n",
              "      <td>0</td>\n",
              "      <td>0</td>\n",
              "    </tr>\n",
              "    <tr>\n",
              "      <th>4997</th>\n",
              "      <td>4998</td>\n",
              "      <td>63</td>\n",
              "      <td>39</td>\n",
              "      <td>24</td>\n",
              "      <td>93023</td>\n",
              "      <td>2</td>\n",
              "      <td>0</td>\n",
              "      <td>3</td>\n",
              "      <td>0</td>\n",
              "      <td>0</td>\n",
              "      <td>0</td>\n",
              "      <td>0</td>\n",
              "      <td>0</td>\n",
              "    </tr>\n",
              "    <tr>\n",
              "      <th>4998</th>\n",
              "      <td>4999</td>\n",
              "      <td>65</td>\n",
              "      <td>40</td>\n",
              "      <td>49</td>\n",
              "      <td>90034</td>\n",
              "      <td>3</td>\n",
              "      <td>0</td>\n",
              "      <td>2</td>\n",
              "      <td>0</td>\n",
              "      <td>0</td>\n",
              "      <td>1</td>\n",
              "      <td>0</td>\n",
              "      <td>0</td>\n",
              "    </tr>\n",
              "    <tr>\n",
              "      <th>4999</th>\n",
              "      <td>5000</td>\n",
              "      <td>28</td>\n",
              "      <td>4</td>\n",
              "      <td>83</td>\n",
              "      <td>92612</td>\n",
              "      <td>3</td>\n",
              "      <td>0</td>\n",
              "      <td>1</td>\n",
              "      <td>0</td>\n",
              "      <td>0</td>\n",
              "      <td>1</td>\n",
              "      <td>1</td>\n",
              "      <td>0</td>\n",
              "    </tr>\n",
              "  </tbody>\n",
              "</table>\n",
              "<p>5000 rows × 13 columns</p>\n",
              "</div>"
            ],
            "text/plain": [
              "        ID  Age  Experience  ...  Online  CreditCard  Mortgage_bin\n",
              "0        1   25           1  ...       0           0             0\n",
              "1        2   45          19  ...       0           0             0\n",
              "2        3   39          15  ...       0           0             0\n",
              "3        4   35           9  ...       0           0             0\n",
              "4        5   35           8  ...       0           1             0\n",
              "...    ...  ...         ...  ...     ...         ...           ...\n",
              "4995  4996   29           3  ...       1           0             0\n",
              "4996  4997   30           4  ...       1           0             0\n",
              "4997  4998   63          39  ...       0           0             0\n",
              "4998  4999   65          40  ...       1           0             0\n",
              "4999  5000   28           4  ...       1           1             0\n",
              "\n",
              "[5000 rows x 13 columns]"
            ]
          },
          "metadata": {
            "tags": []
          },
          "execution_count": 437
        }
      ]
    },
    {
      "cell_type": "code",
      "metadata": {
        "id": "ldJpq32C1MEb",
        "colab_type": "code",
        "colab": {
          "base_uri": "https://localhost:8080/",
          "height": 520
        },
        "outputId": "bd3a536f-27b3-4053-c1cf-08541134fa45"
      },
      "source": [
        "df.Mortgage=X.Mortgage_bin            #Our transform Mortgage\n",
        "sns.distplot(df.Mortgage,color='red')\n",
        "print(\"Mortgage After Applying Binning\")   "
      ],
      "execution_count": null,
      "outputs": [
        {
          "output_type": "stream",
          "text": [
            "Mortgage After Applying Binning\n"
          ],
          "name": "stdout"
        },
        {
          "output_type": "display_data",
          "data": {
            "image/png": "[encoded data removed]",
            "text/plain": [
              "<Figure size 720x576 with 1 Axes>"
            ]
          },
          "metadata": {
            "tags": []
          }
        }
      ]
    },
    {
      "cell_type": "code",
      "metadata": {
        "id": "xMVnvlrEL1Hd",
        "colab_type": "code",
        "colab": {
          "base_uri": "https://localhost:8080/",
          "height": 319
        },
        "outputId": "09a477da-390a-41e0-b34f-c6f39538086e"
      },
      "source": [
        "df.describe()\n"
      ],
      "execution_count": null,
      "outputs": [
        {
          "output_type": "execute_result",
          "data": {
            "text/html": [
              "<div>\n",
              "<style scoped>\n",
              "    .dataframe tbody tr th:only-of-type {\n",
              "        vertical-align: middle;\n",
              "    }\n",
              "\n",
              "    .dataframe tbody tr th {\n",
              "        vertical-align: top;\n",
              "    }\n",
              "\n",
              "    .dataframe thead th {\n",
              "        text-align: right;\n",
              "    }\n",
              "</style>\n",
              "<table border=\"1\" class=\"dataframe\">\n",
              "  <thead>\n",
              "    <tr style=\"text-align: right;\">\n",
              "      <th></th>\n",
              "      <th>ID</th>\n",
              "      <th>Age</th>\n",
              "      <th>Experience</th>\n",
              "      <th>Income</th>\n",
              "      <th>ZIP Code</th>\n",
              "      <th>Family</th>\n",
              "      <th>CCAvg</th>\n",
              "      <th>Education</th>\n",
              "      <th>Personal Loan</th>\n",
              "      <th>Securities Account</th>\n",
              "      <th>CD Account</th>\n",
              "      <th>Online</th>\n",
              "      <th>CreditCard</th>\n",
              "    </tr>\n",
              "  </thead>\n",
              "  <tbody>\n",
              "    <tr>\n",
              "      <th>count</th>\n",
              "      <td>5000.000000</td>\n",
              "      <td>5000.000000</td>\n",
              "      <td>5000.000000</td>\n",
              "      <td>5000.000000</td>\n",
              "      <td>5000.000000</td>\n",
              "      <td>5000.000000</td>\n",
              "      <td>5000.000000</td>\n",
              "      <td>5000.000000</td>\n",
              "      <td>5000.000000</td>\n",
              "      <td>5000.000000</td>\n",
              "      <td>5000.00000</td>\n",
              "      <td>5000.000000</td>\n",
              "      <td>5000.000000</td>\n",
              "    </tr>\n",
              "    <tr>\n",
              "      <th>mean</th>\n",
              "      <td>2500.500000</td>\n",
              "      <td>45.338400</td>\n",
              "      <td>20.327600</td>\n",
              "      <td>7.781652</td>\n",
              "      <td>93152.503000</td>\n",
              "      <td>2.396400</td>\n",
              "      <td>0.602928</td>\n",
              "      <td>1.881000</td>\n",
              "      <td>0.096000</td>\n",
              "      <td>0.104400</td>\n",
              "      <td>0.06040</td>\n",
              "      <td>0.596800</td>\n",
              "      <td>0.294000</td>\n",
              "    </tr>\n",
              "    <tr>\n",
              "      <th>std</th>\n",
              "      <td>1443.520003</td>\n",
              "      <td>11.463166</td>\n",
              "      <td>11.253035</td>\n",
              "      <td>2.110301</td>\n",
              "      <td>2121.852197</td>\n",
              "      <td>1.147663</td>\n",
              "      <td>0.490449</td>\n",
              "      <td>0.839869</td>\n",
              "      <td>0.294621</td>\n",
              "      <td>0.305809</td>\n",
              "      <td>0.23825</td>\n",
              "      <td>0.490589</td>\n",
              "      <td>0.455637</td>\n",
              "    </tr>\n",
              "    <tr>\n",
              "      <th>min</th>\n",
              "      <td>1.000000</td>\n",
              "      <td>23.000000</td>\n",
              "      <td>0.000000</td>\n",
              "      <td>2.810951</td>\n",
              "      <td>9307.000000</td>\n",
              "      <td>1.000000</td>\n",
              "      <td>-0.000000</td>\n",
              "      <td>1.000000</td>\n",
              "      <td>0.000000</td>\n",
              "      <td>0.000000</td>\n",
              "      <td>0.00000</td>\n",
              "      <td>0.000000</td>\n",
              "      <td>0.000000</td>\n",
              "    </tr>\n",
              "    <tr>\n",
              "      <th>25%</th>\n",
              "      <td>1250.750000</td>\n",
              "      <td>35.000000</td>\n",
              "      <td>11.000000</td>\n",
              "      <td>6.345214</td>\n",
              "      <td>91911.000000</td>\n",
              "      <td>1.000000</td>\n",
              "      <td>-0.000000</td>\n",
              "      <td>1.000000</td>\n",
              "      <td>0.000000</td>\n",
              "      <td>0.000000</td>\n",
              "      <td>0.00000</td>\n",
              "      <td>0.000000</td>\n",
              "      <td>0.000000</td>\n",
              "    </tr>\n",
              "    <tr>\n",
              "      <th>50%</th>\n",
              "      <td>2500.500000</td>\n",
              "      <td>45.000000</td>\n",
              "      <td>20.000000</td>\n",
              "      <td>7.808065</td>\n",
              "      <td>93437.000000</td>\n",
              "      <td>2.000000</td>\n",
              "      <td>0.625609</td>\n",
              "      <td>2.000000</td>\n",
              "      <td>0.000000</td>\n",
              "      <td>0.000000</td>\n",
              "      <td>0.00000</td>\n",
              "      <td>1.000000</td>\n",
              "      <td>0.000000</td>\n",
              "    </tr>\n",
              "    <tr>\n",
              "      <th>75%</th>\n",
              "      <td>3750.250000</td>\n",
              "      <td>55.000000</td>\n",
              "      <td>30.000000</td>\n",
              "      <td>9.237217</td>\n",
              "      <td>94608.000000</td>\n",
              "      <td>3.000000</td>\n",
              "      <td>0.935420</td>\n",
              "      <td>3.000000</td>\n",
              "      <td>0.000000</td>\n",
              "      <td>0.000000</td>\n",
              "      <td>0.00000</td>\n",
              "      <td>1.000000</td>\n",
              "      <td>1.000000</td>\n",
              "    </tr>\n",
              "    <tr>\n",
              "      <th>max</th>\n",
              "      <td>5000.000000</td>\n",
              "      <td>67.000000</td>\n",
              "      <td>43.000000</td>\n",
              "      <td>12.540003</td>\n",
              "      <td>96651.000000</td>\n",
              "      <td>4.000000</td>\n",
              "      <td>1.707932</td>\n",
              "      <td>3.000000</td>\n",
              "      <td>1.000000</td>\n",
              "      <td>1.000000</td>\n",
              "      <td>1.00000</td>\n",
              "      <td>1.000000</td>\n",
              "      <td>1.000000</td>\n",
              "    </tr>\n",
              "  </tbody>\n",
              "</table>\n",
              "</div>"
            ],
            "text/plain": [
              "                ID          Age  ...       Online   CreditCard\n",
              "count  5000.000000  5000.000000  ...  5000.000000  5000.000000\n",
              "mean   2500.500000    45.338400  ...     0.596800     0.294000\n",
              "std    1443.520003    11.463166  ...     0.490589     0.455637\n",
              "min       1.000000    23.000000  ...     0.000000     0.000000\n",
              "25%    1250.750000    35.000000  ...     0.000000     0.000000\n",
              "50%    2500.500000    45.000000  ...     1.000000     0.000000\n",
              "75%    3750.250000    55.000000  ...     1.000000     1.000000\n",
              "max    5000.000000    67.000000  ...     1.000000     1.000000\n",
              "\n",
              "[8 rows x 13 columns]"
            ]
          },
          "metadata": {
            "tags": []
          },
          "execution_count": 439
        }
      ]
    },
    {
      "cell_type": "markdown",
      "metadata": {
        "id": "A34gz2fn1oXK",
        "colab_type": "text"
      },
      "source": [
        "So after removing outliers and normalize our features it's time to \n",
        "our Data Spliting >>>"
      ]
    },
    {
      "cell_type": "markdown",
      "metadata": {
        "id": "jpqD6fDG14C5",
        "colab_type": "text"
      },
      "source": [
        "# 5)Spliting of Training and Test Data Set"
      ]
    },
    {
      "cell_type": "markdown",
      "metadata": {
        "id": "387BUMu-2dpd",
        "colab_type": "text"
      },
      "source": [
        "Before spliting we need to keep in mind that the data we distribute in train and test dataset has to evenly distributed which is done by Stratified Sampling of our data..\n",
        "\n",
        "The main part is to choose random_state as well becuse whenever we call split function we get diffrent values so it is important to set a random_state to get fixed values."
      ]
    },
    {
      "cell_type": "markdown",
      "metadata": {
        "id": "yxmjowpu2zm6",
        "colab_type": "text"
      },
      "source": [
        "**5.1)Stratified Sampling**"
      ]
    },
    {
      "cell_type": "markdown",
      "metadata": {
        "id": "zGV1Fs_6JcWH",
        "colab_type": "text"
      },
      "source": [
        "First split Dataset"
      ]
    },
    {
      "cell_type": "code",
      "metadata": {
        "id": "S0GlsX0EzIo0",
        "colab_type": "code",
        "colab": {}
      },
      "source": [
        "from sklearn.model_selection import train_test_split\n",
        "train_set,test_set=train_test_split(df,test_size=0.3,random_state=10)\n"
      ],
      "execution_count": null,
      "outputs": []
    },
    {
      "cell_type": "markdown",
      "metadata": {
        "id": "HKHxlxbtJVvH",
        "colab_type": "text"
      },
      "source": [
        "Doing Stratified Sampling>>>>>"
      ]
    },
    {
      "cell_type": "markdown",
      "metadata": {
        "id": "3odEA5MMvfq5",
        "colab_type": "text"
      },
      "source": [
        "Splitting our key features in way so that we get even distribution                         "
      ]
    },
    {
      "cell_type": "code",
      "metadata": {
        "id": "0_FnOxVbJjFe",
        "colab_type": "code",
        "colab": {}
      },
      "source": [
        "from sklearn.model_selection import StratifiedShuffleSplit                #using inbuilt StratifiedShuffleSplit for stratified sampling\n",
        "split=StratifiedShuffleSplit(n_splits=10,test_size=0.3,random_state=10)\n",
        "for train_index,test_index in split.split(df,df['CD Account']):            # Applying for CD account\n",
        "  strat_train_set=df.iloc[train_index]                                  \n",
        "  strat_test_set=df.iloc[test_index]\n"
      ],
      "execution_count": null,
      "outputs": []
    },
    {
      "cell_type": "code",
      "metadata": {
        "id": "U72AX-FHvVE7",
        "colab_type": "code",
        "colab": {}
      },
      "source": [
        "for train_index,test_index in split.split(df,df['CreditCard']):           # Applying for CreditCard\n",
        "  strat_train_set=df.iloc[train_index]\n",
        "  strat_test_set=df.iloc[test_index]"
      ],
      "execution_count": null,
      "outputs": []
    },
    {
      "cell_type": "code",
      "metadata": {
        "id": "V08tep04vXbi",
        "colab_type": "code",
        "colab": {}
      },
      "source": [
        "for train_index,test_index in split.split(df,df['Securities Account']):   #Applying for Securitues Account\n",
        "  strat_train_set=df.iloc[train_index]\n",
        "  strat_test_set=df.iloc[test_index]"
      ],
      "execution_count": null,
      "outputs": []
    },
    {
      "cell_type": "code",
      "metadata": {
        "id": "zTF2hjWovbil",
        "colab_type": "code",
        "colab": {}
      },
      "source": [
        "for train_index,test_index in split.split(df,df['Mortgage']):             #Applying for Mortgage\n",
        "  strat_train_set=df.iloc[train_index]\n",
        "  strat_test_set=df.iloc[test_index]"
      ],
      "execution_count": null,
      "outputs": []
    },
    {
      "cell_type": "code",
      "metadata": {
        "id": "FKko3O7JsTNq",
        "colab_type": "code",
        "colab": {
          "base_uri": "https://localhost:8080/",
          "height": 319
        },
        "outputId": "908bb988-cea5-4921-e613-57151cece5a0"
      },
      "source": [
        "strat_train_set.describe()            #Our Stratified train_set data"
      ],
      "execution_count": null,
      "outputs": [
        {
          "output_type": "execute_result",
          "data": {
            "text/html": [
              "<div>\n",
              "<style scoped>\n",
              "    .dataframe tbody tr th:only-of-type {\n",
              "        vertical-align: middle;\n",
              "    }\n",
              "\n",
              "    .dataframe tbody tr th {\n",
              "        vertical-align: top;\n",
              "    }\n",
              "\n",
              "    .dataframe thead th {\n",
              "        text-align: right;\n",
              "    }\n",
              "</style>\n",
              "<table border=\"1\" class=\"dataframe\">\n",
              "  <thead>\n",
              "    <tr style=\"text-align: right;\">\n",
              "      <th></th>\n",
              "      <th>ID</th>\n",
              "      <th>Age</th>\n",
              "      <th>Experience</th>\n",
              "      <th>Income</th>\n",
              "      <th>ZIP Code</th>\n",
              "      <th>Family</th>\n",
              "      <th>CCAvg</th>\n",
              "      <th>Education</th>\n",
              "      <th>Personal Loan</th>\n",
              "      <th>Securities Account</th>\n",
              "      <th>CD Account</th>\n",
              "      <th>Online</th>\n",
              "      <th>CreditCard</th>\n",
              "    </tr>\n",
              "  </thead>\n",
              "  <tbody>\n",
              "    <tr>\n",
              "      <th>count</th>\n",
              "      <td>3500.000000</td>\n",
              "      <td>3500.00000</td>\n",
              "      <td>3500.000000</td>\n",
              "      <td>3500.000000</td>\n",
              "      <td>3500.000000</td>\n",
              "      <td>3500.000000</td>\n",
              "      <td>3500.000000</td>\n",
              "      <td>3500.000000</td>\n",
              "      <td>3500.000000</td>\n",
              "      <td>3500.000000</td>\n",
              "      <td>3500.000000</td>\n",
              "      <td>3500.000000</td>\n",
              "      <td>3500.000000</td>\n",
              "    </tr>\n",
              "    <tr>\n",
              "      <th>mean</th>\n",
              "      <td>2508.017143</td>\n",
              "      <td>45.27000</td>\n",
              "      <td>20.225714</td>\n",
              "      <td>7.786572</td>\n",
              "      <td>93131.108000</td>\n",
              "      <td>2.400857</td>\n",
              "      <td>0.603771</td>\n",
              "      <td>1.890000</td>\n",
              "      <td>0.095714</td>\n",
              "      <td>0.104286</td>\n",
              "      <td>0.059429</td>\n",
              "      <td>0.594857</td>\n",
              "      <td>0.296857</td>\n",
              "    </tr>\n",
              "    <tr>\n",
              "      <th>std</th>\n",
              "      <td>1447.997000</td>\n",
              "      <td>11.43804</td>\n",
              "      <td>11.268828</td>\n",
              "      <td>2.115824</td>\n",
              "      <td>2266.321703</td>\n",
              "      <td>1.149648</td>\n",
              "      <td>0.490752</td>\n",
              "      <td>0.844032</td>\n",
              "      <td>0.294241</td>\n",
              "      <td>0.305675</td>\n",
              "      <td>0.236459</td>\n",
              "      <td>0.490990</td>\n",
              "      <td>0.456938</td>\n",
              "    </tr>\n",
              "    <tr>\n",
              "      <th>min</th>\n",
              "      <td>1.000000</td>\n",
              "      <td>23.00000</td>\n",
              "      <td>0.000000</td>\n",
              "      <td>2.810951</td>\n",
              "      <td>9307.000000</td>\n",
              "      <td>1.000000</td>\n",
              "      <td>-0.000000</td>\n",
              "      <td>1.000000</td>\n",
              "      <td>0.000000</td>\n",
              "      <td>0.000000</td>\n",
              "      <td>0.000000</td>\n",
              "      <td>0.000000</td>\n",
              "      <td>0.000000</td>\n",
              "    </tr>\n",
              "    <tr>\n",
              "      <th>25%</th>\n",
              "      <td>1257.750000</td>\n",
              "      <td>35.00000</td>\n",
              "      <td>10.000000</td>\n",
              "      <td>6.345214</td>\n",
              "      <td>91775.000000</td>\n",
              "      <td>1.000000</td>\n",
              "      <td>-0.000000</td>\n",
              "      <td>1.000000</td>\n",
              "      <td>0.000000</td>\n",
              "      <td>0.000000</td>\n",
              "      <td>0.000000</td>\n",
              "      <td>0.000000</td>\n",
              "      <td>0.000000</td>\n",
              "    </tr>\n",
              "    <tr>\n",
              "      <th>50%</th>\n",
              "      <td>2523.000000</td>\n",
              "      <td>45.00000</td>\n",
              "      <td>20.000000</td>\n",
              "      <td>7.808065</td>\n",
              "      <td>93407.000000</td>\n",
              "      <td>2.000000</td>\n",
              "      <td>0.625609</td>\n",
              "      <td>2.000000</td>\n",
              "      <td>0.000000</td>\n",
              "      <td>0.000000</td>\n",
              "      <td>0.000000</td>\n",
              "      <td>1.000000</td>\n",
              "      <td>0.000000</td>\n",
              "    </tr>\n",
              "    <tr>\n",
              "      <th>75%</th>\n",
              "      <td>3772.250000</td>\n",
              "      <td>55.00000</td>\n",
              "      <td>30.000000</td>\n",
              "      <td>9.237217</td>\n",
              "      <td>94609.000000</td>\n",
              "      <td>3.000000</td>\n",
              "      <td>0.935420</td>\n",
              "      <td>3.000000</td>\n",
              "      <td>0.000000</td>\n",
              "      <td>0.000000</td>\n",
              "      <td>0.000000</td>\n",
              "      <td>1.000000</td>\n",
              "      <td>1.000000</td>\n",
              "    </tr>\n",
              "    <tr>\n",
              "      <th>max</th>\n",
              "      <td>4999.000000</td>\n",
              "      <td>67.00000</td>\n",
              "      <td>43.000000</td>\n",
              "      <td>12.540003</td>\n",
              "      <td>96651.000000</td>\n",
              "      <td>4.000000</td>\n",
              "      <td>1.707932</td>\n",
              "      <td>3.000000</td>\n",
              "      <td>1.000000</td>\n",
              "      <td>1.000000</td>\n",
              "      <td>1.000000</td>\n",
              "      <td>1.000000</td>\n",
              "      <td>1.000000</td>\n",
              "    </tr>\n",
              "  </tbody>\n",
              "</table>\n",
              "</div>"
            ],
            "text/plain": [
              "                ID         Age  ...       Online   CreditCard\n",
              "count  3500.000000  3500.00000  ...  3500.000000  3500.000000\n",
              "mean   2508.017143    45.27000  ...     0.594857     0.296857\n",
              "std    1447.997000    11.43804  ...     0.490990     0.456938\n",
              "min       1.000000    23.00000  ...     0.000000     0.000000\n",
              "25%    1257.750000    35.00000  ...     0.000000     0.000000\n",
              "50%    2523.000000    45.00000  ...     1.000000     0.000000\n",
              "75%    3772.250000    55.00000  ...     1.000000     1.000000\n",
              "max    4999.000000    67.00000  ...     1.000000     1.000000\n",
              "\n",
              "[8 rows x 13 columns]"
            ]
          },
          "metadata": {
            "tags": []
          },
          "execution_count": 445
        }
      ]
    },
    {
      "cell_type": "code",
      "metadata": {
        "id": "EsmlhhrHD6xp",
        "colab_type": "code",
        "colab": {
          "base_uri": "https://localhost:8080/",
          "height": 70
        },
        "outputId": "ce8e6654-5315-4e7f-da00-252e4f477718"
      },
      "source": [
        "strat_train_set['Personal Loan'].value_counts()"
      ],
      "execution_count": null,
      "outputs": [
        {
          "output_type": "execute_result",
          "data": {
            "text/plain": [
              "0    3165\n",
              "1     335\n",
              "Name: Personal Loan, dtype: int64"
            ]
          },
          "metadata": {
            "tags": []
          },
          "execution_count": 446
        }
      ]
    },
    {
      "cell_type": "code",
      "metadata": {
        "id": "YPDeL5ivuGz3",
        "colab_type": "code",
        "colab": {
          "base_uri": "https://localhost:8080/",
          "height": 319
        },
        "outputId": "03007842-5453-44fe-9375-838e7b62c6d8"
      },
      "source": [
        "strat_test_set.describe()               #Our Stratified test_set data"
      ],
      "execution_count": null,
      "outputs": [
        {
          "output_type": "execute_result",
          "data": {
            "text/html": [
              "<div>\n",
              "<style scoped>\n",
              "    .dataframe tbody tr th:only-of-type {\n",
              "        vertical-align: middle;\n",
              "    }\n",
              "\n",
              "    .dataframe tbody tr th {\n",
              "        vertical-align: top;\n",
              "    }\n",
              "\n",
              "    .dataframe thead th {\n",
              "        text-align: right;\n",
              "    }\n",
              "</style>\n",
              "<table border=\"1\" class=\"dataframe\">\n",
              "  <thead>\n",
              "    <tr style=\"text-align: right;\">\n",
              "      <th></th>\n",
              "      <th>ID</th>\n",
              "      <th>Age</th>\n",
              "      <th>Experience</th>\n",
              "      <th>Income</th>\n",
              "      <th>ZIP Code</th>\n",
              "      <th>Family</th>\n",
              "      <th>CCAvg</th>\n",
              "      <th>Education</th>\n",
              "      <th>Personal Loan</th>\n",
              "      <th>Securities Account</th>\n",
              "      <th>CD Account</th>\n",
              "      <th>Online</th>\n",
              "      <th>CreditCard</th>\n",
              "    </tr>\n",
              "  </thead>\n",
              "  <tbody>\n",
              "    <tr>\n",
              "      <th>count</th>\n",
              "      <td>1500.000000</td>\n",
              "      <td>1500.000000</td>\n",
              "      <td>1500.000000</td>\n",
              "      <td>1500.000000</td>\n",
              "      <td>1500.000000</td>\n",
              "      <td>1500.000000</td>\n",
              "      <td>1500.000000</td>\n",
              "      <td>1500.000000</td>\n",
              "      <td>1500.000000</td>\n",
              "      <td>1500.000000</td>\n",
              "      <td>1500.000000</td>\n",
              "      <td>1500.000000</td>\n",
              "      <td>1500.000000</td>\n",
              "    </tr>\n",
              "    <tr>\n",
              "      <th>mean</th>\n",
              "      <td>2482.960000</td>\n",
              "      <td>45.498000</td>\n",
              "      <td>20.565333</td>\n",
              "      <td>7.770172</td>\n",
              "      <td>93202.424667</td>\n",
              "      <td>2.386000</td>\n",
              "      <td>0.600959</td>\n",
              "      <td>1.860000</td>\n",
              "      <td>0.096667</td>\n",
              "      <td>0.104667</td>\n",
              "      <td>0.062667</td>\n",
              "      <td>0.601333</td>\n",
              "      <td>0.287333</td>\n",
              "    </tr>\n",
              "    <tr>\n",
              "      <th>std</th>\n",
              "      <td>1433.346802</td>\n",
              "      <td>11.523824</td>\n",
              "      <td>11.216250</td>\n",
              "      <td>2.098018</td>\n",
              "      <td>1738.361298</td>\n",
              "      <td>1.143332</td>\n",
              "      <td>0.489900</td>\n",
              "      <td>0.829975</td>\n",
              "      <td>0.295602</td>\n",
              "      <td>0.306226</td>\n",
              "      <td>0.242443</td>\n",
              "      <td>0.489787</td>\n",
              "      <td>0.452669</td>\n",
              "    </tr>\n",
              "    <tr>\n",
              "      <th>min</th>\n",
              "      <td>2.000000</td>\n",
              "      <td>23.000000</td>\n",
              "      <td>0.000000</td>\n",
              "      <td>2.810951</td>\n",
              "      <td>90005.000000</td>\n",
              "      <td>1.000000</td>\n",
              "      <td>-0.000000</td>\n",
              "      <td>1.000000</td>\n",
              "      <td>0.000000</td>\n",
              "      <td>0.000000</td>\n",
              "      <td>0.000000</td>\n",
              "      <td>0.000000</td>\n",
              "      <td>0.000000</td>\n",
              "    </tr>\n",
              "    <tr>\n",
              "      <th>25%</th>\n",
              "      <td>1233.750000</td>\n",
              "      <td>36.000000</td>\n",
              "      <td>11.000000</td>\n",
              "      <td>6.345214</td>\n",
              "      <td>92028.750000</td>\n",
              "      <td>1.000000</td>\n",
              "      <td>-0.000000</td>\n",
              "      <td>1.000000</td>\n",
              "      <td>0.000000</td>\n",
              "      <td>0.000000</td>\n",
              "      <td>0.000000</td>\n",
              "      <td>0.000000</td>\n",
              "      <td>0.000000</td>\n",
              "    </tr>\n",
              "    <tr>\n",
              "      <th>50%</th>\n",
              "      <td>2457.500000</td>\n",
              "      <td>46.000000</td>\n",
              "      <td>20.000000</td>\n",
              "      <td>7.783234</td>\n",
              "      <td>93555.000000</td>\n",
              "      <td>2.000000</td>\n",
              "      <td>0.625609</td>\n",
              "      <td>2.000000</td>\n",
              "      <td>0.000000</td>\n",
              "      <td>0.000000</td>\n",
              "      <td>0.000000</td>\n",
              "      <td>1.000000</td>\n",
              "      <td>0.000000</td>\n",
              "    </tr>\n",
              "    <tr>\n",
              "      <th>75%</th>\n",
              "      <td>3713.250000</td>\n",
              "      <td>56.000000</td>\n",
              "      <td>30.000000</td>\n",
              "      <td>9.344882</td>\n",
              "      <td>94596.000000</td>\n",
              "      <td>3.000000</td>\n",
              "      <td>0.935420</td>\n",
              "      <td>3.000000</td>\n",
              "      <td>0.000000</td>\n",
              "      <td>0.000000</td>\n",
              "      <td>0.000000</td>\n",
              "      <td>1.000000</td>\n",
              "      <td>1.000000</td>\n",
              "    </tr>\n",
              "    <tr>\n",
              "      <th>max</th>\n",
              "      <td>5000.000000</td>\n",
              "      <td>67.000000</td>\n",
              "      <td>43.000000</td>\n",
              "      <td>12.148657</td>\n",
              "      <td>96651.000000</td>\n",
              "      <td>4.000000</td>\n",
              "      <td>1.607431</td>\n",
              "      <td>3.000000</td>\n",
              "      <td>1.000000</td>\n",
              "      <td>1.000000</td>\n",
              "      <td>1.000000</td>\n",
              "      <td>1.000000</td>\n",
              "      <td>1.000000</td>\n",
              "    </tr>\n",
              "  </tbody>\n",
              "</table>\n",
              "</div>"
            ],
            "text/plain": [
              "                ID          Age  ...       Online   CreditCard\n",
              "count  1500.000000  1500.000000  ...  1500.000000  1500.000000\n",
              "mean   2482.960000    45.498000  ...     0.601333     0.287333\n",
              "std    1433.346802    11.523824  ...     0.489787     0.452669\n",
              "min       2.000000    23.000000  ...     0.000000     0.000000\n",
              "25%    1233.750000    36.000000  ...     0.000000     0.000000\n",
              "50%    2457.500000    46.000000  ...     1.000000     0.000000\n",
              "75%    3713.250000    56.000000  ...     1.000000     1.000000\n",
              "max    5000.000000    67.000000  ...     1.000000     1.000000\n",
              "\n",
              "[8 rows x 13 columns]"
            ]
          },
          "metadata": {
            "tags": []
          },
          "execution_count": 447
        }
      ]
    },
    {
      "cell_type": "code",
      "metadata": {
        "id": "MB5_AtyIDxWG",
        "colab_type": "code",
        "colab": {
          "base_uri": "https://localhost:8080/",
          "height": 70
        },
        "outputId": "dfd15b2f-b69f-491f-8bac-226544b6ae72"
      },
      "source": [
        "strat_test_set['Personal Loan'].value_counts()"
      ],
      "execution_count": null,
      "outputs": [
        {
          "output_type": "execute_result",
          "data": {
            "text/plain": [
              "0    1355\n",
              "1     145\n",
              "Name: Personal Loan, dtype: int64"
            ]
          },
          "metadata": {
            "tags": []
          },
          "execution_count": 448
        }
      ]
    },
    {
      "cell_type": "markdown",
      "metadata": {
        "id": "hMvoLs0a-Azd",
        "colab_type": "text"
      },
      "source": [
        "*Here we can see that the ratio of zeros and ones in train and test data is same.*"
      ]
    },
    {
      "cell_type": "markdown",
      "metadata": {
        "id": "73Vd_3WkBTY1",
        "colab_type": "text"
      },
      "source": [
        "\n",
        "Here we will do the split our features and labels(target) in train_set\n",
        "as well as test_set>>>>"
      ]
    },
    {
      "cell_type": "code",
      "metadata": {
        "id": "vqHB4v7Q0_ah",
        "colab_type": "code",
        "colab": {}
      },
      "source": [
        "X_features=strat_train_set.drop(\"Personal Loan\",axis=1)   #Personal loan was our label so we drop it from our train_set to fet only features....\n",
        "X_features=X_features.drop(\"ID\",axis=1)                    \n",
        "Y_labels=strat_train_set[\"Personal Loan\"].copy()"
      ],
      "execution_count": null,
      "outputs": []
    },
    {
      "cell_type": "markdown",
      "metadata": {
        "id": "QIfUYba_CAJu",
        "colab_type": "text"
      },
      "source": [
        "Making features and labels split in test_set>>>"
      ]
    },
    {
      "cell_type": "code",
      "metadata": {
        "id": "PZZwUt0x5S_g",
        "colab_type": "code",
        "colab": {}
      },
      "source": [
        "X_test_features=strat_test_set.drop(\"Personal Loan\",axis=1)\n",
        "X_test_features=X_test_features.drop(\"ID\",axis=1)\n",
        "Y_test_labels=strat_test_set[\"Personal Loan\"].copy()"
      ],
      "execution_count": null,
      "outputs": []
    },
    {
      "cell_type": "markdown",
      "metadata": {
        "id": "9vKa868B0Sno",
        "colab_type": "text"
      },
      "source": [
        "^^ In this step we have perform all the necessary steps required.\n",
        "Now we will use diffrent models and see which gives best result>>>"
      ]
    },
    {
      "cell_type": "markdown",
      "metadata": {
        "id": "c_JBXY9PSJDc",
        "colab_type": "text"
      },
      "source": [
        "#Feature Scaling"
      ]
    },
    {
      "cell_type": "markdown",
      "metadata": {
        "id": "kIH7e3cHKGlo",
        "colab_type": "text"
      },
      "source": [
        "Doing Feautre Sacling to get all our feautres to get our all feautres in same range>>>>"
      ]
    },
    {
      "cell_type": "code",
      "metadata": {
        "id": "XPLZkfs4IS7m",
        "colab_type": "code",
        "colab": {}
      },
      "source": [
        "from sklearn import preprocessing               #Applying StandardScalar technique for feature Scaling\n",
        "scalar=preprocessing.StandardScaler()\n",
        "scaled_X_train=scalar.fit_transform(X_features)\n",
        "\n",
        "scaled_X_test=scalar.fit_transform(X_test_features)"
      ],
      "execution_count": null,
      "outputs": []
    },
    {
      "cell_type": "markdown",
      "metadata": {
        "id": "S2hHqED50EVQ",
        "colab_type": "text"
      },
      "source": [
        "# 6)Data Modelling"
      ]
    },
    {
      "cell_type": "markdown",
      "metadata": {
        "id": "GCpxQfBHSxCp",
        "colab_type": "text"
      },
      "source": [
        "Now come the very Important Step to select the model for our dataset"
      ]
    },
    {
      "cell_type": "markdown",
      "metadata": {
        "id": "1bCKfAum0ygU",
        "colab_type": "text"
      },
      "source": [
        "**1)Selecting Logistic Model>>>**"
      ]
    },
    {
      "cell_type": "code",
      "metadata": {
        "id": "RMv7qXrI0D34",
        "colab_type": "code",
        "colab": {
          "base_uri": "https://localhost:8080/",
          "height": 106
        },
        "outputId": "30181cbf-bc85-4177-f201-599acd067f1f"
      },
      "source": [
        "from sklearn.metrics import accuracy_score                  #Imported all required Libraries\n",
        "from sklearn.linear_model import LogisticRegression   \n",
        "from sklearn.metrics import classification_report\n",
        "from sklearn.metrics import confusion_matrix\n",
        "from sklearn.metrics import roc_curve,auc,roc_auc_score\n",
        "from sklearn.model_selection import cross_val_score       #Performing cross-Validation\n",
        "logModel=LogisticRegression()\n",
        " #fiting our scaled train data and labels\n",
        "logModel.fit(scaled_X_train,Y_labels)                   "
      ],
      "execution_count": null,
      "outputs": [
        {
          "output_type": "execute_result",
          "data": {
            "text/plain": [
              "LogisticRegression(C=1.0, class_weight=None, dual=False, fit_intercept=True,\n",
              "                   intercept_scaling=1, l1_ratio=None, max_iter=100,\n",
              "                   multi_class='auto', n_jobs=None, penalty='l2',\n",
              "                   random_state=None, solver='lbfgs', tol=0.0001, verbose=0,\n",
              "                   warm_start=False)"
            ]
          },
          "metadata": {
            "tags": []
          },
          "execution_count": 452
        }
      ]
    },
    {
      "cell_type": "code",
      "metadata": {
        "id": "9LJO5z6Eo98i",
        "colab_type": "code",
        "colab": {}
      },
      "source": [
        " #Applying cross Validation\n",
        "score_tr=cross_val_score(logModel,scaled_X_train,Y_labels,cv=5)     "
      ],
      "execution_count": null,
      "outputs": []
    },
    {
      "cell_type": "code",
      "metadata": {
        "id": "CJ1frqY2oujI",
        "colab_type": "code",
        "colab": {
          "base_uri": "https://localhost:8080/",
          "height": 52
        },
        "outputId": "7b541115-79fe-4d75-8dd3-a45b4b781dcd"
      },
      "source": [
        "#Accuracy of training dataset\n",
        "print(\"Accuracy after Cross Validation of train data Set:\")     \n",
        "score_tr.mean()                     "
      ],
      "execution_count": null,
      "outputs": [
        {
          "output_type": "stream",
          "text": [
            "Accuracy after Cross Validation of train data Set:\n"
          ],
          "name": "stdout"
        },
        {
          "output_type": "execute_result",
          "data": {
            "text/plain": [
              "0.9542857142857143"
            ]
          },
          "metadata": {
            "tags": []
          },
          "execution_count": 454
        }
      ]
    },
    {
      "cell_type": "code",
      "metadata": {
        "id": "ouckc7qXjxQz",
        "colab_type": "code",
        "colab": {
          "base_uri": "https://localhost:8080/",
          "height": 52
        },
        "outputId": "c4ac254e-d001-4d52-b4c6-1c8dd08d310f"
      },
      "source": [
        "recal1=cross_val_score(logModel,scaled_X_train,Y_labels,scoring=\"recall\",cv=5)  \n",
        "print(\"Recall value after Cross Validation of train data Set:\") \n",
        "recal1.mean()"
      ],
      "execution_count": null,
      "outputs": [
        {
          "output_type": "stream",
          "text": [
            "Recall value after Cross Validation of train data Set:\n"
          ],
          "name": "stdout"
        },
        {
          "output_type": "execute_result",
          "data": {
            "text/plain": [
              "0.6537313432835821"
            ]
          },
          "metadata": {
            "tags": []
          },
          "execution_count": 455
        }
      ]
    },
    {
      "cell_type": "code",
      "metadata": {
        "id": "X5ZQjMU_XLhg",
        "colab_type": "code",
        "colab": {
          "base_uri": "https://localhost:8080/",
          "height": 52
        },
        "outputId": "7ed9af51-d85f-40f2-fea6-8f49ab931f79"
      },
      "source": [
        "score_te=cross_val_score(logModel,scaled_X_test,Y_test_labels,cv=5)    \n",
        "print(\"Accuracy after Cross Validation of test data Set:\")     \n",
        "score_te.mean()  "
      ],
      "execution_count": null,
      "outputs": [
        {
          "output_type": "stream",
          "text": [
            "Accuracy after Cross Validation of test data Set:\n"
          ],
          "name": "stdout"
        },
        {
          "output_type": "execute_result",
          "data": {
            "text/plain": [
              "0.9553333333333335"
            ]
          },
          "metadata": {
            "tags": []
          },
          "execution_count": 456
        }
      ]
    },
    {
      "cell_type": "code",
      "metadata": {
        "id": "vlHLn00yEbgV",
        "colab_type": "code",
        "colab": {}
      },
      "source": [
        "predictions=logModel.predict(scaled_X_test)             #Without CrossValidation"
      ],
      "execution_count": null,
      "outputs": []
    },
    {
      "cell_type": "code",
      "metadata": {
        "id": "4JgxcbUJC8tl",
        "colab_type": "code",
        "colab": {
          "base_uri": "https://localhost:8080/",
          "height": 70
        },
        "outputId": "af099abd-3d5c-40ae-fd56-7d1f69c64aa1"
      },
      "source": [
        "\n",
        "clf_report=classification_report(Y_test_labels,predictions,output_dict=True)      #Report\n",
        "\n",
        "print(\"Confusion Matrix:\")\n",
        "\n",
        "print(confusion_matrix(Y_test_labels,predictions))"
      ],
      "execution_count": null,
      "outputs": [
        {
          "output_type": "stream",
          "text": [
            "Confusion Matrix:\n",
            "[[1344   11]\n",
            " [  54   91]]\n"
          ],
          "name": "stdout"
        }
      ]
    },
    {
      "cell_type": "code",
      "metadata": {
        "id": "x_aS20BH6Q_J",
        "colab_type": "code",
        "colab": {
          "base_uri": "https://localhost:8080/",
          "height": 547
        },
        "outputId": "d0cfdf09-15c8-4af7-81bc-146401cdbfae"
      },
      "source": [
        "print(\"All important values recall , f1-score, presion :\")\n",
        "print()\n",
        "sns.heatmap(pd.DataFrame(clf_report).iloc[:-1, :].T, annot=True)"
      ],
      "execution_count": null,
      "outputs": [
        {
          "output_type": "stream",
          "text": [
            "All important values recall , f1-score, presion :\n",
            "\n"
          ],
          "name": "stdout"
        },
        {
          "output_type": "execute_result",
          "data": {
            "text/plain": [
              "<matplotlib.axes._subplots.AxesSubplot at 0x7f9fdfb02be0>"
            ]
          },
          "metadata": {
            "tags": []
          },
          "execution_count": 459
        },
        {
          "output_type": "display_data",
          "data": {
            "image/png": "[encoded data removed]",
            "text/plain": [
              "<Figure size 720x576 with 2 Axes>"
            ]
          },
          "metadata": {
            "tags": []
          }
        }
      ]
    },
    {
      "cell_type": "markdown",
      "metadata": {
        "id": "YW8qHJhXE0iJ",
        "colab_type": "text"
      },
      "source": [
        "^^With or without crossVAlidation in logistic regression the accuracy and recall value is same\n"
      ]
    },
    {
      "cell_type": "markdown",
      "metadata": {
        "id": "i9-0XJb6hV76",
        "colab_type": "text"
      },
      "source": [
        "**Getting Area Under ROC curve**"
      ]
    },
    {
      "cell_type": "code",
      "metadata": {
        "id": "Mkl0kodohZNt",
        "colab_type": "code",
        "colab": {
          "base_uri": "https://localhost:8080/",
          "height": 35
        },
        "outputId": "0808cb07-1bb1-4d6d-fe76-50660e939841"
      },
      "source": [
        "#Using prdict_proba for calculating probability of 0 0r 1\n",
        "log=logModel.predict_proba(scaled_X_test)\n",
        "#calculating probability of 1\n",
        "fpr1,tpr1,thresold1=roc_curve(Y_test_labels,log[:,1])\n",
        "#Using auc function to get Area Under Curve\n",
        "roc_area=auc(fpr1,tpr1)\n",
        "print(\"Area Under Curve for Logistic Regression is:\" ,roc_area)"
      ],
      "execution_count": null,
      "outputs": [
        {
          "output_type": "stream",
          "text": [
            "Area Under Curve for Logistic Regression is: 0.9742206387581117\n"
          ],
          "name": "stdout"
        }
      ]
    },
    {
      "cell_type": "markdown",
      "metadata": {
        "id": "PBmz_g_QWSHm",
        "colab_type": "text"
      },
      "source": [
        "***In logistic regression our Recall value for true postives is 66%\n",
        " and acuraccy is 95% of both test and training      dataset and our area ROC curve is 97%***\n",
        "\n",
        "\n"
      ]
    },
    {
      "cell_type": "markdown",
      "metadata": {
        "id": "KNjhCJk6higR",
        "colab_type": "text"
      },
      "source": [
        "# 7)Now we will look diffrent model as well"
      ]
    },
    {
      "cell_type": "markdown",
      "metadata": {
        "id": "C41qbj283tYw",
        "colab_type": "text"
      },
      "source": [
        "# **7.1)Selecting Decsion TreeClassifier**"
      ]
    },
    {
      "cell_type": "markdown",
      "metadata": {
        "id": "ahGurP_MRHh4",
        "colab_type": "text"
      },
      "source": [
        "Decison Tree Classifier uses a tree type Structure where internal node represent test on an attribute and leaf as label on an attribute"
      ]
    },
    {
      "cell_type": "code",
      "metadata": {
        "id": "Qe0DYG4YhiJQ",
        "colab_type": "code",
        "colab": {
          "base_uri": "https://localhost:8080/",
          "height": 124
        },
        "outputId": "e20ffeb3-4ff9-49cb-e444-f19dfda991d8"
      },
      "source": [
        " #Importing decision TreeClassifier\n",
        "from sklearn.tree import DecisionTreeClassifier                          \n",
        "dec_tree=DecisionTreeClassifier(criterion='entropy',random_state=42)\n",
        "dec_tree.fit(scaled_X_train,Y_labels)"
      ],
      "execution_count": null,
      "outputs": [
        {
          "output_type": "execute_result",
          "data": {
            "text/plain": [
              "DecisionTreeClassifier(ccp_alpha=0.0, class_weight=None, criterion='entropy',\n",
              "                       max_depth=None, max_features=None, max_leaf_nodes=None,\n",
              "                       min_impurity_decrease=0.0, min_impurity_split=None,\n",
              "                       min_samples_leaf=1, min_samples_split=2,\n",
              "                       min_weight_fraction_leaf=0.0, presort='deprecated',\n",
              "                       random_state=42, splitter='best')"
            ]
          },
          "metadata": {
            "tags": []
          },
          "execution_count": 461
        }
      ]
    },
    {
      "cell_type": "code",
      "metadata": {
        "id": "HKmi0rDQ3YtF",
        "colab_type": "code",
        "colab": {}
      },
      "source": [
        "#predicting values for our trained data set\n",
        "pre=dec_tree.predict(scaled_X_train)   "
      ],
      "execution_count": null,
      "outputs": []
    },
    {
      "cell_type": "code",
      "metadata": {
        "id": "-hrWrTtx3bOF",
        "colab_type": "code",
        "colab": {
          "base_uri": "https://localhost:8080/",
          "height": 52
        },
        "outputId": "1b82b8cf-fc0f-42e0-ab62-d4795bf3cd61"
      },
      "source": [
        "print(\"Accuracy of train data set:\")\n",
        "accuracy_score(Y_labels,pre)                  #Accuracy of training dataset"
      ],
      "execution_count": null,
      "outputs": [
        {
          "output_type": "stream",
          "text": [
            "Accuracy of train data set:\n"
          ],
          "name": "stdout"
        },
        {
          "output_type": "execute_result",
          "data": {
            "text/plain": [
              "1.0"
            ]
          },
          "metadata": {
            "tags": []
          },
          "execution_count": 463
        }
      ]
    },
    {
      "cell_type": "markdown",
      "metadata": {
        "id": "NyyeEBU-4DZX",
        "colab_type": "text"
      },
      "source": [
        "\n",
        "\n",
        "(What! 1 which is seldomly possible)\n",
        "***Basically a case of overfitting ***\n",
        "\n",
        "*>>Our  training data has learn noise too...*\n",
        "*So we will do cross Validation*\n",
        "\n"
      ]
    },
    {
      "cell_type": "markdown",
      "metadata": {
        "id": "f7gs7r575j3e",
        "colab_type": "text"
      },
      "source": [
        "# Cross-Validation"
      ]
    },
    {
      "cell_type": "markdown",
      "metadata": {
        "id": "spyKETCXI9dJ",
        "colab_type": "text"
      },
      "source": [
        "Cross- Validation is an important step beacuse many model like decison tree tend to overfit because they learn noise.Cross-Validation takes one data and train for othes data thus by doing this it just make the more accurate. "
      ]
    },
    {
      "cell_type": "code",
      "metadata": {
        "id": "ZPhbOu5y5C0X",
        "colab_type": "code",
        "colab": {}
      },
      "source": [
        "from sklearn.model_selection import cross_val_score,KFold,cross_val_predict\n",
        "score1_tr=cross_val_score(dec_tree,scaled_X_train,Y_labels,cv=5)"
      ],
      "execution_count": null,
      "outputs": []
    },
    {
      "cell_type": "code",
      "metadata": {
        "id": "DbF13OOqA6Em",
        "colab_type": "code",
        "colab": {
          "base_uri": "https://localhost:8080/",
          "height": 52
        },
        "outputId": "d9c22790-4caa-4e2d-b96f-694adefcfd80"
      },
      "source": [
        "print(\"After Applying Cross_Validation in traing dataset:\")        #After Cross Validation\n",
        "                                                            #Accuracy in training dataset\n",
        "score1_tr.mean()                                   "
      ],
      "execution_count": null,
      "outputs": [
        {
          "output_type": "stream",
          "text": [
            "After Applying Cross_Validation in traing dataset:\n"
          ],
          "name": "stdout"
        },
        {
          "output_type": "execute_result",
          "data": {
            "text/plain": [
              "0.9800000000000001"
            ]
          },
          "metadata": {
            "tags": []
          },
          "execution_count": 465
        }
      ]
    },
    {
      "cell_type": "code",
      "metadata": {
        "id": "ldab0O5PFibM",
        "colab_type": "code",
        "colab": {
          "base_uri": "https://localhost:8080/",
          "height": 35
        },
        "outputId": "20bcdab1-85f4-4c94-9389-2d1199a256ca"
      },
      "source": [
        "score1_te=cross_val_score(dec_tree,scaled_X_test,Y_test_labels,cv=5)\n",
        "print(\"Accuracy in test dataset :\",score1_te.mean())"
      ],
      "execution_count": null,
      "outputs": [
        {
          "output_type": "stream",
          "text": [
            "Accuracy in test dataset : 0.9733333333333333\n"
          ],
          "name": "stdout"
        }
      ]
    },
    {
      "cell_type": "code",
      "metadata": {
        "id": "5CjJcbmjFq_G",
        "colab_type": "code",
        "colab": {
          "base_uri": "https://localhost:8080/",
          "height": 35
        },
        "outputId": "93f777b1-c694-4ce4-fc81-fcba5e10669b"
      },
      "source": [
        "recal2=cross_val_score(dec_tree,scaled_X_test,Y_test_labels,scoring=\"recall\",cv=5) \n",
        "print(\"Recall value of our test-dataset:\",recal2.mean())     #Recall vlaue for Decision tree Classifier"
      ],
      "execution_count": null,
      "outputs": [
        {
          "output_type": "stream",
          "text": [
            "Recall value of our test-dataset: 0.8965517241379309\n"
          ],
          "name": "stdout"
        }
      ]
    },
    {
      "cell_type": "code",
      "metadata": {
        "id": "mLslqeZCGUhp",
        "colab_type": "code",
        "colab": {
          "base_uri": "https://localhost:8080/",
          "height": 542
        },
        "outputId": "8215731f-bd77-4442-bd9c-7e27da89b153"
      },
      "source": [
        "clf_report1={'0':{'acuracy':0.98,'recall':0.89}}\n",
        "print(\"Decision Tree:\")\n",
        "print()\n",
        "sns.heatmap(pd.DataFrame(clf_report1).iloc[:,0 :].T, annot=True)"
      ],
      "execution_count": null,
      "outputs": [
        {
          "output_type": "stream",
          "text": [
            "Decision Tree:\n",
            "\n"
          ],
          "name": "stdout"
        },
        {
          "output_type": "execute_result",
          "data": {
            "text/plain": [
              "<matplotlib.axes._subplots.AxesSubplot at 0x7f9fdfa79208>"
            ]
          },
          "metadata": {
            "tags": []
          },
          "execution_count": 468
        },
        {
          "output_type": "display_data",
          "data": {
            "image/png": "[encoded data removed]",
            "text/plain": [
              "<Figure size 720x576 with 2 Axes>"
            ]
          },
          "metadata": {
            "tags": []
          }
        }
      ]
    },
    {
      "cell_type": "code",
      "metadata": {
        "id": "fC7hmZAkPiCD",
        "colab_type": "code",
        "colab": {
          "base_uri": "https://localhost:8080/",
          "height": 230
        },
        "outputId": "3754a14d-c0a6-430a-9df9-4b48d09724d5"
      },
      "source": [
        "pre=dec_tree.predict(scaled_X_test)\n",
        "\n",
        "print(classification_report(Y_test_labels,pre))\n",
        "print(\"Confusion Matrix:\")\n",
        "\n",
        "print(confusion_matrix(Y_test_labels,pre))"
      ],
      "execution_count": null,
      "outputs": [
        {
          "output_type": "stream",
          "text": [
            "              precision    recall  f1-score   support\n",
            "\n",
            "           0       0.99      0.99      0.99      1355\n",
            "           1       0.91      0.92      0.91       145\n",
            "\n",
            "    accuracy                           0.98      1500\n",
            "   macro avg       0.95      0.96      0.95      1500\n",
            "weighted avg       0.98      0.98      0.98      1500\n",
            "\n",
            "Confusion Matrix:\n",
            "[[1341   14]\n",
            " [  11  134]]\n"
          ],
          "name": "stdout"
        }
      ]
    },
    {
      "cell_type": "markdown",
      "metadata": {
        "id": "YM0W41MAf_ss",
        "colab_type": "text"
      },
      "source": [
        "Area under ROC curve"
      ]
    },
    {
      "cell_type": "code",
      "metadata": {
        "id": "TgDEu7mrSL_t",
        "colab_type": "code",
        "colab": {
          "base_uri": "https://localhost:8080/",
          "height": 35
        },
        "outputId": "1953bebf-06c8-4e9c-ca6a-cb89352c6c48"
      },
      "source": [
        "#for Area \n",
        "dt=dec_tree.predict_proba(scaled_X_test)\n",
        "fpr2,tpr2,thresold2=roc_curve(Y_test_labels,dt[:,1])\n",
        "roc_area=auc(fpr2,tpr2)\n",
        "print(\"Area under ROC cueve Decsion tree:\" ,roc_area)"
      ],
      "execution_count": null,
      "outputs": [
        {
          "output_type": "stream",
          "text": [
            "Area under ROC cueve Decsion tree: 0.9569029138567248\n"
          ],
          "name": "stdout"
        }
      ]
    },
    {
      "cell_type": "markdown",
      "metadata": {
        "id": "sOlhwGevF5f5",
        "colab_type": "text"
      },
      "source": [
        "***SO in Decsion Tree Classifier acuracy is 96% in training dataset and 97% in test dataset and recall value as 89.6%***"
      ]
    },
    {
      "cell_type": "markdown",
      "metadata": {
        "id": "75IHp3WIhIiM",
        "colab_type": "text"
      },
      "source": [
        "# **7.2)Selecting RandomForest Classifier**"
      ]
    },
    {
      "cell_type": "markdown",
      "metadata": {
        "id": "f2uPYdk4RgkW",
        "colab_type": "text"
      },
      "source": [
        "Random forest is an ensemble technique ,It use many tree models for training of data."
      ]
    },
    {
      "cell_type": "code",
      "metadata": {
        "id": "mv-Mr5OTwAqh",
        "colab_type": "code",
        "colab": {
          "base_uri": "https://localhost:8080/",
          "height": 159
        },
        "outputId": "0ea5c52e-838a-4a02-f10a-4b6eb477dc53"
      },
      "source": [
        "#Applying Ensemble Techniques\n",
        "from sklearn.ensemble import RandomForestClassifier\n",
        "rand1=RandomForestClassifier(criterion='entropy',n_estimators=150,random_state=42)\n",
        "rand1.fit(scaled_X_train,Y_labels)"
      ],
      "execution_count": null,
      "outputs": [
        {
          "output_type": "execute_result",
          "data": {
            "text/plain": [
              "RandomForestClassifier(bootstrap=True, ccp_alpha=0.0, class_weight=None,\n",
              "                       criterion='entropy', max_depth=None, max_features='auto',\n",
              "                       max_leaf_nodes=None, max_samples=None,\n",
              "                       min_impurity_decrease=0.0, min_impurity_split=None,\n",
              "                       min_samples_leaf=1, min_samples_split=2,\n",
              "                       min_weight_fraction_leaf=0.0, n_estimators=150,\n",
              "                       n_jobs=None, oob_score=False, random_state=42, verbose=0,\n",
              "                       warm_start=False)"
            ]
          },
          "metadata": {
            "tags": []
          },
          "execution_count": 471
        }
      ]
    },
    {
      "cell_type": "code",
      "metadata": {
        "id": "keOUBA5BwaFX",
        "colab_type": "code",
        "colab": {}
      },
      "source": [
        "predict1=rand1.predict(scaled_X_train)        "
      ],
      "execution_count": null,
      "outputs": []
    },
    {
      "cell_type": "code",
      "metadata": {
        "id": "uBhEd-U_wdpH",
        "colab_type": "code",
        "colab": {
          "base_uri": "https://localhost:8080/",
          "height": 52
        },
        "outputId": "9c457332-ecb8-4577-b273-7cdc0ec86a62"
      },
      "source": [
        "print(\"Accuracy of train data-Set: \")\n",
        "accuracy_score(Y_labels,predict1)         #Accuracy of train dataset"
      ],
      "execution_count": null,
      "outputs": [
        {
          "output_type": "stream",
          "text": [
            "Accuracy of train data-Set: \n"
          ],
          "name": "stdout"
        },
        {
          "output_type": "execute_result",
          "data": {
            "text/plain": [
              "1.0"
            ]
          },
          "metadata": {
            "tags": []
          },
          "execution_count": 473
        }
      ]
    },
    {
      "cell_type": "markdown",
      "metadata": {
        "id": "phHrC6DOICGK",
        "colab_type": "text"
      },
      "source": [
        "**Again a case of overfiting **"
      ]
    },
    {
      "cell_type": "code",
      "metadata": {
        "id": "3NTwi0TNH5nu",
        "colab_type": "code",
        "colab": {}
      },
      "source": [
        "#Doing Cross Validation\n",
        "\n",
        "score2_tr=cross_val_score(rand1,scaled_X_train,Y_labels,cv=5)      "
      ],
      "execution_count": null,
      "outputs": []
    },
    {
      "cell_type": "code",
      "metadata": {
        "id": "sZecMu7BIRhl",
        "colab_type": "code",
        "colab": {
          "base_uri": "https://localhost:8080/",
          "height": 52
        },
        "outputId": "4f83471f-724e-40ce-8872-75aa25ae562f"
      },
      "source": [
        "print(\"Acurracy of train data set after cross -validation: \")\n",
        "\n",
        "print(score2.mean())\n"
      ],
      "execution_count": null,
      "outputs": [
        {
          "output_type": "stream",
          "text": [
            "Acurracy of train data set after cross -validation: \n",
            "0.9842857142857143\n"
          ],
          "name": "stdout"
        }
      ]
    },
    {
      "cell_type": "code",
      "metadata": {
        "id": "WgCYIWIUWyAK",
        "colab_type": "code",
        "colab": {}
      },
      "source": [
        "score2_tr=cross_val_score(rand1,scaled_X_train,Y_labels,cv=5)    "
      ],
      "execution_count": null,
      "outputs": []
    },
    {
      "cell_type": "code",
      "metadata": {
        "id": "STEerIbzwzxO",
        "colab_type": "code",
        "colab": {
          "base_uri": "https://localhost:8080/",
          "height": 35
        },
        "outputId": "4ae2cf65-b3be-4e7d-caad-3940f6872896"
      },
      "source": [
        " #Recall Value Random Forest Classifier\n",
        "\n",
        "recal3=cross_val_score(rand1,scaled_X_train,Y_labels,scoring=\"recall\",cv=5)\n",
        "\n",
        "print(\"Recall for randamforest:\",recal3.mean() )   "
      ],
      "execution_count": null,
      "outputs": [
        {
          "output_type": "stream",
          "text": [
            "Recall for randamforest: 0.8656716417910447\n"
          ],
          "name": "stdout"
        }
      ]
    },
    {
      "cell_type": "code",
      "metadata": {
        "id": "3ApIZ1CVXwpc",
        "colab_type": "code",
        "colab": {
          "base_uri": "https://localhost:8080/",
          "height": 52
        },
        "outputId": "6a67b473-123c-4f32-9f4a-3dfad100b9ec"
      },
      "source": [
        "score2_te=cross_val_score(rand1,scaled_X_test,Y_test_labels,cv=5)  \n",
        "print(\"Acurracy of train data set after cross -validation: \")\n",
        "\n",
        "print(score2_te.mean())   "
      ],
      "execution_count": null,
      "outputs": [
        {
          "output_type": "stream",
          "text": [
            "Acurracy of train data set after cross -validation: \n",
            "0.9793333333333333\n"
          ],
          "name": "stdout"
        }
      ]
    },
    {
      "cell_type": "code",
      "metadata": {
        "id": "aEzO4m8kNmFl",
        "colab_type": "code",
        "colab": {
          "base_uri": "https://localhost:8080/",
          "height": 542
        },
        "outputId": "1e4c9bdd-1a77-4c4b-f578-9dc6ddd451d8"
      },
      "source": [
        "#With cross validation\n",
        "clf_report2={'0':{'acuracy':0.98,'recall':0.865}}\n",
        "\n",
        "print(\"Random Forest:\")\n",
        "print()\n",
        "sns.heatmap(pd.DataFrame(clf_report2).iloc[:,0 :].T, annot=True)"
      ],
      "execution_count": null,
      "outputs": [
        {
          "output_type": "stream",
          "text": [
            "Random Forest:\n",
            "\n"
          ],
          "name": "stdout"
        },
        {
          "output_type": "execute_result",
          "data": {
            "text/plain": [
              "<matplotlib.axes._subplots.AxesSubplot at 0x7f9fdf9c75c0>"
            ]
          },
          "metadata": {
            "tags": []
          },
          "execution_count": 479
        },
        {
          "output_type": "display_data",
          "data": {
            "image/png": "[encoded data removed]",
            "text/plain": [
              "<Figure size 720x576 with 2 Axes>"
            ]
          },
          "metadata": {
            "tags": []
          }
        }
      ]
    },
    {
      "cell_type": "code",
      "metadata": {
        "id": "F0OGIA_1QHaV",
        "colab_type": "code",
        "colab": {
          "base_uri": "https://localhost:8080/",
          "height": 230
        },
        "outputId": "08cde658-efb4-4fa7-c139-2f3d5eca7a4b"
      },
      "source": [
        "#With out Cross-\n",
        "pre1=rand1.predict(scaled_X_test)\n",
        "\n",
        "print(classification_report(Y_test_labels,pre1))\n",
        "print(\"Confusion Matrix:\")\n",
        "\n",
        "print(confusion_matrix(Y_test_labels,pre1))"
      ],
      "execution_count": null,
      "outputs": [
        {
          "output_type": "stream",
          "text": [
            "              precision    recall  f1-score   support\n",
            "\n",
            "           0       0.99      1.00      0.99      1355\n",
            "           1       0.98      0.92      0.95       145\n",
            "\n",
            "    accuracy                           0.99      1500\n",
            "   macro avg       0.99      0.96      0.97      1500\n",
            "weighted avg       0.99      0.99      0.99      1500\n",
            "\n",
            "Confusion Matrix:\n",
            "[[1352    3]\n",
            " [  11  134]]\n"
          ],
          "name": "stdout"
        }
      ]
    },
    {
      "cell_type": "markdown",
      "metadata": {
        "id": "Wm-s4kN3grik",
        "colab_type": "text"
      },
      "source": [
        "Area Under Roc curve"
      ]
    },
    {
      "cell_type": "code",
      "metadata": {
        "id": "HuEDTzTpSYP6",
        "colab_type": "code",
        "colab": {
          "base_uri": "https://localhost:8080/",
          "height": 35
        },
        "outputId": "03f72588-055e-4e10-fa31-f7e80101d476"
      },
      "source": [
        "ran=rand1.predict_proba(scaled_X_test)\n",
        "\n",
        "fpr3,tpr3,thresold3=roc_curve(Y_test_labels,ran[:,1])\n",
        "\n",
        "roc_area=auc(fpr1,tpr1)\n",
        "\n",
        "print(\"Area under ROC Curve:\" ,roc_area)"
      ],
      "execution_count": null,
      "outputs": [
        {
          "output_type": "stream",
          "text": [
            "Area under ROC Curve: 0.9742206387581117\n"
          ],
          "name": "stdout"
        }
      ]
    },
    {
      "cell_type": "markdown",
      "metadata": {
        "id": "rECgC-z5J-lr",
        "colab_type": "text"
      },
      "source": [
        "***So in RandomForestClassifier acuracy is 98% in training dataset and 97% in test dataset and recall value as 87%***"
      ]
    },
    {
      "cell_type": "markdown",
      "metadata": {
        "id": "Zifg8TjeOWkS",
        "colab_type": "text"
      },
      "source": [
        "# **7.3)Selecting Support Vector Machine**"
      ]
    },
    {
      "cell_type": "markdown",
      "metadata": {
        "id": "3ay63E1hR4hD",
        "colab_type": "text"
      },
      "source": [
        "SVM is a supervised machine learning algorithm which is mainly used for classification."
      ]
    },
    {
      "cell_type": "code",
      "metadata": {
        "id": "XIkBrGgNOB3j",
        "colab_type": "code",
        "colab": {
          "base_uri": "https://localhost:8080/",
          "height": 88
        },
        "outputId": "3202e3b6-0486-42b7-cd66-5e050fccc50e"
      },
      "source": [
        "from sklearn import svm\n",
        "clf=svm.SVC(C=3,kernel='rbf',probability=True)\n",
        "clf.fit(scaled_X_train,Y_labels)\n"
      ],
      "execution_count": null,
      "outputs": [
        {
          "output_type": "execute_result",
          "data": {
            "text/plain": [
              "SVC(C=3, break_ties=False, cache_size=200, class_weight=None, coef0=0.0,\n",
              "    decision_function_shape='ovr', degree=3, gamma='scale', kernel='rbf',\n",
              "    max_iter=-1, probability=True, random_state=None, shrinking=True, tol=0.001,\n",
              "    verbose=False)"
            ]
          },
          "metadata": {
            "tags": []
          },
          "execution_count": 482
        }
      ]
    },
    {
      "cell_type": "code",
      "metadata": {
        "id": "WMK2D83aSdXh",
        "colab_type": "code",
        "colab": {
          "base_uri": "https://localhost:8080/",
          "height": 212
        },
        "outputId": "40e6706f-585f-4fd1-980b-2be4bc3b41d3"
      },
      "source": [
        "#Support Vector Machine\n",
        "y_pre=clf.predict(scaled_X_test)\n",
        "print(classification_report(y_pre,Y_test_labels))\n",
        "\n",
        "print(confusion_matrix(y_pre,Y_test_labels))"
      ],
      "execution_count": null,
      "outputs": [
        {
          "output_type": "stream",
          "text": [
            "              precision    recall  f1-score   support\n",
            "\n",
            "           0       1.00      0.98      0.99      1377\n",
            "           1       0.81      0.95      0.87       123\n",
            "\n",
            "    accuracy                           0.98      1500\n",
            "   macro avg       0.90      0.97      0.93      1500\n",
            "weighted avg       0.98      0.98      0.98      1500\n",
            "\n",
            "[[1349   28]\n",
            " [   6  117]]\n"
          ],
          "name": "stdout"
        }
      ]
    },
    {
      "cell_type": "markdown",
      "metadata": {
        "id": "hoPTke5dTMB4",
        "colab_type": "text"
      },
      "source": [
        "Area Under the Curve"
      ]
    },
    {
      "cell_type": "code",
      "metadata": {
        "id": "25av3_JPTJG0",
        "colab_type": "code",
        "colab": {
          "base_uri": "https://localhost:8080/",
          "height": 35
        },
        "outputId": "8f670fe1-6164-4b48-d5c4-42cd85ad64e2"
      },
      "source": [
        "sv=clf.predict_proba(scaled_X_test)\n",
        "\n",
        "fpr4,tpr4,thresold4=roc_curve(Y_test_labels,sv[:,1])\n",
        "\n",
        "roc_area1=auc(fpr4,tpr4)\n",
        "\n",
        "print(\"Area under ROC Curve:\" ,roc_area1)"
      ],
      "execution_count": null,
      "outputs": [
        {
          "output_type": "stream",
          "text": [
            "Area under ROC Curve: 0.9938923527166307\n"
          ],
          "name": "stdout"
        }
      ]
    },
    {
      "cell_type": "markdown",
      "metadata": {
        "id": "RAnaRcxZKKQ6",
        "colab_type": "text"
      },
      "source": [
        "# 8)Comparision of Models"
      ]
    },
    {
      "cell_type": "markdown",
      "metadata": {
        "id": "evZgEqbcYtsv",
        "colab_type": "text"
      },
      "source": [
        "*Plotting graphs for all the applied models >> ROC curve*"
      ]
    },
    {
      "cell_type": "code",
      "metadata": {
        "id": "iLcIRNBJXo7i",
        "colab_type": "code",
        "colab": {
          "base_uri": "https://localhost:8080/",
          "height": 563
        },
        "outputId": "ed05bf59-51d0-4a69-e8bb-92fc98f5b0c1"
      },
      "source": [
        "plt.figure(figsize=(15,8))\n",
        "plt.title('ROC Curve \\n Top 4 Classifiers', fontsize=18)\n",
        "plt.xlabel('False Positive Rate', fontsize=15)\n",
        "plt.ylabel('True Positive Rate', fontsize=15)\n",
        "plt.plot(fpr1,tpr1,fpr2,tpr2,fpr3,tpr3,fpr4,tpr4)\n",
        "\n",
        "label='Logistic Regression Classifier Score: {:.4f}'.format(roc_auc_score(Y_test_labels, cross_val_predict(logModel,scaled_X_test,Y_test_labels, cv=5)))\n",
        "\n",
        "label2='Decision Tree Classifier Score: {:.4f}'.format(roc_auc_score(Y_test_labels, cross_val_predict(dec_tree,scaled_X_test,Y_test_labels,cv=5)))\n",
        "\n",
        "label3='Random Forest Classifier Score: {:.4f}'.format(roc_auc_score(Y_test_labels, cross_val_predict(rand1,scaled_X_test,Y_test_labels,cv=5)))\n",
        "\n",
        "label4='Support Vector Machine Score: {:.4f}'.format(roc_auc_score(Y_test_labels, cross_val_predict(clf,scaled_X_test,Y_test_labels,cv=5)))\n",
        "plt.legend((label,label2,label3,label4))\n",
        "\n"
      ],
      "execution_count": null,
      "outputs": [
        {
          "output_type": "execute_result",
          "data": {
            "text/plain": [
              "<matplotlib.legend.Legend at 0x7f9fdf908048>"
            ]
          },
          "metadata": {
            "tags": []
          },
          "execution_count": 485
        },
        {
          "output_type": "display_data",
          "data": {
            "image/png": "[encoded data removed]",
            "text/plain": [
              "<Figure size 1080x576 with 1 Axes>"
            ]
          },
          "metadata": {
            "tags": []
          }
        }
      ]
    },
    {
      "cell_type": "markdown",
      "metadata": {
        "id": "-T3htISXlMFK",
        "colab_type": "text"
      },
      "source": [
        "**Plotting Recall Value of models**"
      ]
    },
    {
      "cell_type": "code",
      "metadata": {
        "id": "yC6yTxxLjpEk",
        "colab_type": "code",
        "colab": {
          "base_uri": "https://localhost:8080/",
          "height": 489
        },
        "outputId": "c3b7395d-75e5-4f32-fa62-d8a6a0fd114b"
      },
      "source": [
        "plt.plot(recal1)\n",
        "plt.plot(recal2)\n",
        "plt.plot(recal3)\n",
        "label='Logistic Regression Classifier Score'\n",
        "label2='Decision Tree Classifier Score'\n",
        "label3='Random Forest Classifier Score'\n",
        "plt.legend((label,label2,label3))\n",
        "\n",
        "plt.show()"
      ],
      "execution_count": null,
      "outputs": [
        {
          "output_type": "display_data",
          "data": {
            "image/png": "[encoded data removed]",
            "text/plain": [
              "<Figure size 720x576 with 1 Axes>"
            ]
          },
          "metadata": {
            "tags": []
          }
        }
      ]
    },
    {
      "cell_type": "markdown",
      "metadata": {
        "id": "F12fldlFYrri",
        "colab_type": "text"
      },
      "source": [
        "Thus from above Decesion tree Classifier works as best\n",
        "Also recall value is highest in Decsion Tree."
      ]
    },
    {
      "cell_type": "markdown",
      "metadata": {
        "id": "OBx_u8SHimgn",
        "colab_type": "text"
      },
      "source": [
        "# 9)Business Understanding Of Model"
      ]
    },
    {
      "cell_type": "markdown",
      "metadata": {
        "id": "G5hg2K2Hit5l",
        "colab_type": "text"
      },
      "source": [
        "We have seen that our model has predicted the qutite accuratelty.The\n",
        "\n",
        "important was to do data preprocessing where lot of irrelevant data \n",
        "\n",
        "was removed.Then i have done more depth analysis by pointing out which \n",
        "\n",
        "factor was most important to get the accurate results.Like i found the \n",
        "\n",
        "data which was more correlated to our target value Like Income,\n",
        "\n",
        "CreditCard,CCAvg,Securities Account.After that I have removed the \n",
        "\n",
        "outliers which was seldomly affecting our data by doing Standardisation.\n",
        "\n",
        "After that I have split the data into train and test dataset so that i \n",
        "\n",
        "can cross verify afer training my train dataset for test dataset with the help\n",
        "\n",
        "of stratified sampling.\n",
        "\n",
        "Then at last i have data modeling part which can predict my data more\n",
        "\n",
        "efficiently.\n",
        "\n",
        "\n",
        "\n",
        "\n",
        "Diffrent Model Prediction:\n",
        "\n",
        "\n",
        "\n",
        "---\n",
        "\n",
        "\n",
        "1)Logistic Regression: \n",
        "\n",
        ">>)Accuracy on trian dataset:96% \n",
        "\n",
        "\n",
        ">>b)Accuracy on test dataset:95.4%\n",
        "\n",
        "\n",
        ">>c)Recall value:67%\n",
        "\n",
        ">>d)Area Under Curve:97%\n",
        "\n",
        ">>>Since recall value is not that high inspite of high Area we will not deploy \n",
        "\n",
        "this model.\n",
        "\n",
        "---\n",
        "2)Decision Tree Classifier: \n",
        "\n",
        ">>)Accuracy on trian dataset:98% \n",
        "\n",
        "\n",
        ">>b)Accuracy on test dataset:97%\n",
        "\n",
        "\n",
        ">>c)Recall value:89%\n",
        "\n",
        ">>d)Area Under Curve:96%\n",
        "\n",
        ">>>This model is good and also recall value is also high so we can deploy this model\n",
        "\n",
        "\n",
        "---\n",
        "\n",
        "3)RandomForest Classifier: \n",
        "\n",
        ">>)Accuracy on trian dataset:98% \n",
        "\n",
        "\n",
        ">>b)Accuracy on test dataset:97%\n",
        "\n",
        "\n",
        ">>c)Recall value:86%\n",
        "\n",
        ">>d)Area Under Curve:97%\n",
        "\n",
        ">>>This model is good and also recall value is also high but less than our Decision Tree\n",
        "\n",
        "\n",
        "---\n",
        "\n",
        "\n",
        "\n",
        "\n",
        "# *After trying out diffrent models I found that recall values which* \n",
        "\n",
        "# *predict my true positive values and acuracy and area under roc curve* \n",
        "\n",
        "# *was  best in my Dcesion Tree Model.* \n",
        "\n",
        "# *So I decided that I will deploy Decision Tree Model. Now the company can use \n",
        "\n",
        "# the model for profit by clearly knowing whcih customers they should target.*\n",
        "\n"
      ]
    }
  ]
}